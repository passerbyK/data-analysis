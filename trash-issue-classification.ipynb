{
  "cells": [
    {
      "cell_type": "markdown",
      "metadata": {
        "id": "ICX09VBWr85P"
      },
      "source": [
        "## Step 0: Required Packages"
      ]
    },
    {
      "cell_type": "code",
      "execution_count": null,
      "metadata": {
        "cellView": "form",
        "colab": {
          "base_uri": "https://localhost:8080/"
        },
        "collapsed": true,
        "id": "qpjY51tMbrTZ",
        "outputId": "8a2db852-c7e2-4c38-dce6-79bc41855523"
      },
      "outputs": [
        {
          "name": "stdout",
          "output_type": "stream",
          "text": [
            "Looking in indexes: https://pypi.org/simple, https://us-python.pkg.dev/colab-wheels/public/simple/\n",
            "Collecting PyGithub\n",
            "  Downloading PyGithub-1.59.0-py3-none-any.whl (342 kB)\n",
            "\u001b[2K     \u001b[90m━━━━━━━━━━━━━━━━━━━━━━━━━━━━━━━━━━━━━━━\u001b[0m \u001b[32m342.1/342.1 kB\u001b[0m \u001b[31m9.1 MB/s\u001b[0m eta \u001b[36m0:00:00\u001b[0m\n",
            "\u001b[?25hCollecting deprecated (from PyGithub)\n",
            "  Downloading Deprecated-1.2.14-py2.py3-none-any.whl (9.6 kB)\n",
            "Collecting pyjwt[crypto]>=2.4.0 (from PyGithub)\n",
            "  Downloading PyJWT-2.7.0-py3-none-any.whl (22 kB)\n",
            "Collecting pynacl>=1.4.0 (from PyGithub)\n",
            "  Downloading PyNaCl-1.5.0-cp36-abi3-manylinux_2_17_x86_64.manylinux2014_x86_64.manylinux_2_24_x86_64.whl (856 kB)\n",
            "\u001b[2K     \u001b[90m━━━━━━━━━━━━━━━━━━━━━━━━━━━━━━━━━━━━━━\u001b[0m \u001b[32m856.7/856.7 kB\u001b[0m \u001b[31m49.5 MB/s\u001b[0m eta \u001b[36m0:00:00\u001b[0m\n",
            "\u001b[?25hRequirement already satisfied: requests>=2.14.0 in /usr/local/lib/python3.10/dist-packages (from PyGithub) (2.27.1)\n",
            "Collecting cryptography>=3.4.0 (from pyjwt[crypto]>=2.4.0->PyGithub)\n",
            "  Downloading cryptography-41.0.1-cp37-abi3-manylinux_2_28_x86_64.whl (4.3 MB)\n",
            "\u001b[2K     \u001b[90m━━━━━━━━━━━━━━━━━━━━━━━━━━━━━━━━━━━━━━━━\u001b[0m \u001b[32m4.3/4.3 MB\u001b[0m \u001b[31m77.5 MB/s\u001b[0m eta \u001b[36m0:00:00\u001b[0m\n",
            "\u001b[?25hRequirement already satisfied: cffi>=1.4.1 in /usr/local/lib/python3.10/dist-packages (from pynacl>=1.4.0->PyGithub) (1.15.1)\n",
            "Requirement already satisfied: urllib3<1.27,>=1.21.1 in /usr/local/lib/python3.10/dist-packages (from requests>=2.14.0->PyGithub) (1.26.16)\n",
            "Requirement already satisfied: certifi>=2017.4.17 in /usr/local/lib/python3.10/dist-packages (from requests>=2.14.0->PyGithub) (2023.5.7)\n",
            "Requirement already satisfied: charset-normalizer~=2.0.0 in /usr/local/lib/python3.10/dist-packages (from requests>=2.14.0->PyGithub) (2.0.12)\n",
            "Requirement already satisfied: idna<4,>=2.5 in /usr/local/lib/python3.10/dist-packages (from requests>=2.14.0->PyGithub) (3.4)\n",
            "Requirement already satisfied: wrapt<2,>=1.10 in /usr/local/lib/python3.10/dist-packages (from deprecated->PyGithub) (1.14.1)\n",
            "Requirement already satisfied: pycparser in /usr/local/lib/python3.10/dist-packages (from cffi>=1.4.1->pynacl>=1.4.0->PyGithub) (2.21)\n",
            "Installing collected packages: pyjwt, deprecated, pynacl, cryptography, PyGithub\n",
            "Successfully installed PyGithub-1.59.0 cryptography-41.0.1 deprecated-1.2.14 pyjwt-2.7.0 pynacl-1.5.0\n"
          ]
        }
      ],
      "source": [
        "#@title Install PyGithub\n",
        "!pip install PyGithub"
      ]
    },
    {
      "cell_type": "code",
      "execution_count": null,
      "metadata": {
        "id": "BlZSAGvkbzfN"
      },
      "outputs": [],
      "source": [
        "# Data tool\n",
        "import pandas as pd\n",
        "import numpy as np\n",
        "import re  #for regular expression\n",
        "from datetime import datetime, timedelta # for Time\n",
        "# Github\n",
        "from github import Github\n",
        "pd.options.mode.chained_assignment = None  # default='warn'\n",
        "\n",
        "def get_pddf_Full():\n",
        "    # No Input Argument\n",
        "    # github token\n",
        "    GITHUB_TOKEN = \"get your own token\"\n",
        "    \n",
        "    g = Github(GITHUB_TOKEN)\n",
        "    repo = g.get_repo('support-team/customer-feedback') # fake repo\n",
        "\n",
        "    # get all issue\n",
        "    # time = datetime.utcnow() - timedelta(hours = 1)\n",
        "    project_Full = repo.get_issues(state = 'all')\n",
        "\n",
        "    Full = []\n",
        "    for issue in project_Full:\n",
        "        assignees = []\n",
        "        assignee_username = []\n",
        "        for assignee in issue.assignees:\n",
        "            assignees.append(assignee.login)\n",
        "            # assignee.name may be None\n",
        "            if assignee.name == None:\n",
        "              assignee_username.append(assignee.login)\n",
        "            else:\n",
        "              assignee_username.append(assignee.name)\n",
        "        labels = []\n",
        "        for label in issue.labels:\n",
        "            labels.append(label.name)\n",
        "        Full.append([\n",
        "            issue.number,\n",
        "            issue.html_url,\n",
        "            issue.title,\n",
        "            issue.state,\n",
        "            issue.body,\n",
        "            ', '.join(assignees),\n",
        "            ', '.join(assignee_username),\n",
        "            pd.to_datetime(issue.created_at),\n",
        "            pd.to_datetime(issue.updated_at),\n",
        "            None if issue.closed_at is None else pd.to_datetime(issue.closed_at),\n",
        "            ','.join(labels),\n",
        "        ])\n",
        "\n",
        "    pddf_Full = pd.DataFrame(Full,columns=[\n",
        "                  'Issue_ID', 'URL', 'Title', 'State',\n",
        "                  'Description', 'Assignee',\n",
        "                  'Assignee_Username', 'Created_At_UTC',\n",
        "                  'Updated_At_UTC', 'Closed_At_UTC', 'Labels'\n",
        "                  ])\n",
        "\n",
        "    return pddf_Full"
      ]
    },
    {
      "cell_type": "code",
      "execution_count": null,
      "metadata": {
        "colab": {
          "base_uri": "https://localhost:8080/"
        },
        "id": "kkvz16M878kd",
        "outputId": "09e47444-ef0f-41ff-de87-98052f9dd335"
      },
      "outputs": [
        {
          "name": "stderr",
          "output_type": "stream",
          "text": [
            "Following Github server redirection from /repos/jy-support-team/customer-feedback to /repositories/579095430\n",
            "INFO:github.Requester:Following Github server redirection from /repos/jy-support-team/customer-feedback to /repositories/579095430\n",
            "<ipython-input-2-dbdf967e2c95>:67: FutureWarning: The default value of regex will change from True to False in a future version.\n",
            "  pddf_Full[\"Dimension\"] = pddf_Full[\"Labels\"].str.replace(r\"(/_|_)\",\"/\")\n",
            "<ipython-input-2-dbdf967e2c95>:69: FutureWarning: The default value of regex will change from True to False in a future version.\n",
            "  pddf_Full[\"Dimension\"] = pddf_Full[\"Dimension\"].str.replace(r\"(,.+)\",\"\")\n",
            "<ipython-input-2-dbdf967e2c95>:103: UserWarning: This pattern is interpreted as a regular expression, and has match groups. To actually get the groups, use str.extract.\n",
            "  pddf_Full_wish_origin[\"Responsible\"] = pddf_Full_wish_origin[\"Email\"].str.contains(r\"(^(\\w|\\.|\\_|\\-)+[@](\\w|\\_|\\-|\\.)+[.]\\w{2,3}$)\")\n",
            "<ipython-input-2-dbdf967e2c95>:148: UserWarning: This pattern is interpreted as a regular expression, and has match groups. To actually get the groups, use str.extract.\n",
            "  pddf_Full_bug_origin[\"Responsible\"] = pddf_Full_bug_origin[\"Email\"].str.contains(r\"(^(\\w|\\.|\\_|\\-)+[@](\\w|\\_|\\-|\\.)+[.]\\w{2,3}$)\")\n"
          ]
        }
      ],
      "source": [
        "test_data = get_pddf_Full()"
      ]
    },
    {
      "cell_type": "markdown",
      "metadata": {
        "id": "_WX-ivfN0efv"
      },
      "source": [
        "## Step 1：Data Preprocessing，you can skip this part。（different from Step 2）"
      ]
    },
    {
      "cell_type": "code",
      "execution_count": null,
      "metadata": {
        "cellView": "form",
        "colab": {
          "base_uri": "https://localhost:8080/",
          "height": 641
        },
        "id": "ozHmiKYPmF4M",
        "outputId": "c47baa2c-b980-4fd8-9dcb-ceb35b9251c6"
      },
      "outputs": [],
      "source": [
        "#@title Extracting Problem Description / Problem Reproduction Method from Bug Reports\n",
        "pd.options.mode.chained_assignment = None  # default='warn'\n",
        "\n",
        "pddf_Full_proposed_question = pddf_Full_origin.copy()\n",
        "pddf_Full_proposed_question[\"Description\"] = pddf_Full_proposed_question[\"Description\"].str.replace(\"<br>\\n\", \", \")\n",
        "pddf_Full_proposed_question_after = pddf_Full_proposed_question.loc[pddf_Full[\"Description\"].str.startswith((\", 【Bug Report】\"))]\n",
        "\n",
        "pddf_Full_proposed_question_after['Title'] = pddf_Full_proposed_question['Title']\n",
        "pddf_Full_proposed_question_after['Problem_Description/Request'] = pddf_Full_proposed_question_after[\"Description\"].str.extract(r\"((?<=Problem description, ).+(?=, , ▌Reproduction method))\")\n",
        "pddf_Full_proposed_question_after['Reproduction_Method'] = pddf_Full_proposed_question_after[\"Description\"].str.extract(r\"((?<=Reproduction method, ).+(?=, , ▌Device where the problem occurs))\")\n",
        "pddf_Full_proposed_question_after['Labels'] = pddf_Full_proposed_question['Labels']\n",
        "\n",
        "question = pddf_Full_proposed_question_after[['Title', 'Problem_Description/Request', 'Reproduction_Method', 'Labels']]\n",
        "question"
      ]
    },
    {
      "cell_type": "code",
      "execution_count": null,
      "metadata": {
        "cellView": "form",
        "colab": {
          "base_uri": "https://localhost:8080/",
          "height": 641
        },
        "id": "MKwXnDkznWed",
        "outputId": "e14456ad-8cc3-4ab9-b70c-4682e1e33373"
      },
      "outputs": [],
      "source": [
        "#@title Extracting Requirements Description / Operation Method for Platform Feature Wishes\n",
        "pd.options.mode.chained_assignment = None  # default='warn'\n",
        "\n",
        "pddf_Full_wish = pddf_Full_origin.copy()\n",
        "pddf_Full_wish[\"Description\"] = pddf_Full_wish[\"Description\"].str.replace(\"<br>\\n\", \", \")\n",
        "pddf_Full_wish_after = pddf_Full_wish.loc[pddf_Full[\"Description\"].str.startswith((\", 【Platform Feature Wish】\"))]\n",
        "\n",
        "pddf_Full_wish_after['Title'] = pddf_Full_wish['Title']\n",
        "pddf_Full_wish_after['Requirement_Description/Request'] = pddf_Full_wish_after[\"Description\"].str.extract(r\"((?<=Requirement description, ).+(?=, , ▌Operation method))\")\n",
        "pddf_Full_wish_after['Operation_Method'] = pddf_Full_wish_after[\"Description\"].str.extract(r\"((?<=Operation method, ).+(?=, , , ==================, 【More Information】))\")\n",
        "pddf_Full_wish_after['Labels'] = pddf_Full_wish['Labels']\n",
        "\n",
        "wish = pddf_Full_wish_after[['Title', 'Requirement_Description/Request', 'Operation_Method', 'Labels']]\n",
        "wish"
      ]
    },
    {
      "cell_type": "code",
      "execution_count": null,
      "metadata": {
        "cellView": "form",
        "colab": {
          "base_uri": "https://localhost:8080/",
          "height": 641
        },
        "id": "QxC6Rs3SQ075",
        "outputId": "038ddedd-5df9-433b-a9ad-b2fcb58485d6"
      },
      "outputs": [],
      "source": [
        "#@title Merge Bug Reports and Wishes\n",
        "all_issue = pd.concat([question, wish]).sort_index(axis=0)\n",
        "all_issue\n",
        "\n",
        "# Select Bug Reports from Customer Support Team\n",
        "issues = all_issue.loc[all_issue['Labels'].str.contains('Team::Customer Support')]\n",
        "issues\n",
        "\n",
        "# Select Undetermined Reports\n",
        "trash_issues = all_issue.loc[all_issue['Labels'].str.contains('Customer Support/Other::Unable to Determine')]\n",
        "trash_issues\n",
        "\n",
        "# export csv file\n",
        "from google.colab import files\n",
        "trash_issues.to_csv('trash_issue.csv', encoding = 'utf-8-sig')\n",
        "files.download('trash_issue.csv')\n",
        "\n",
        "# Check the number of issues with misconceptions\n",
        "nowrong_issues = all_issue.loc[all_issue['Labels'].str.contains('Customer Support/Problem with Questions::Misconception')]\n",
        "nowrong_issues\n",
        "\n",
        "# Total of 4248 customer support emails, with 593 classified as trash issues, accounting for 13.96%.\n",
        "# There are a total of 4248 customer service emails, of which 1071 are related to misconceptions, accounting for 25.21%.\n",
        "# Therefore, the total number of emails related to spam and misconceptions is 1664, accounting for 39.17%.\n"
      ]
    },
    {
      "cell_type": "markdown",
      "metadata": {
        "id": "mVnE2Tp00K2s"
      },
      "source": [
        "# Step 2：NLP to deal with issues"
      ]
    },
    {
      "cell_type": "code",
      "execution_count": null,
      "metadata": {
        "cellView": "form",
        "colab": {
          "base_uri": "https://localhost:8080/"
        },
        "id": "TriPxI8lmTK5",
        "outputId": "46f1ea66-19d7-4fdf-f739-79a6bcfca781"
      },
      "outputs": [
        {
          "name": "stdout",
          "output_type": "stream",
          "text": [
            "Looking in indexes: https://pypi.org/simple, https://us-python.pkg.dev/colab-wheels/public/simple/\n",
            "Requirement already satisfied: jieba in /usr/local/lib/python3.7/dist-packages (0.42.1)\n",
            "Looking in indexes: https://pypi.org/simple, https://us-python.pkg.dev/colab-wheels/public/simple/\n",
            "Requirement already satisfied: nltk in /usr/local/lib/python3.7/dist-packages (3.7)\n",
            "Requirement already satisfied: tqdm in /usr/local/lib/python3.7/dist-packages (from nltk) (4.64.1)\n",
            "Requirement already satisfied: joblib in /usr/local/lib/python3.7/dist-packages (from nltk) (1.2.0)\n",
            "Requirement already satisfied: click in /usr/local/lib/python3.7/dist-packages (from nltk) (7.1.2)\n",
            "Requirement already satisfied: regex>=2021.8.3 in /usr/local/lib/python3.7/dist-packages (from nltk) (2022.6.2)\n"
          ]
        }
      ],
      "source": [
        "#@title install jieba & nltk\n",
        "!pip install jieba\n",
        "!pip install nltk"
      ]
    },
    {
      "cell_type": "code",
      "execution_count": null,
      "metadata": {
        "cellView": "form",
        "colab": {
          "base_uri": "https://localhost:8080/"
        },
        "id": "4FY5I5P20cMr",
        "outputId": "844eafc4-80eb-4d58-8a2a-eeb615985dd7"
      },
      "outputs": [
        {
          "name": "stdout",
          "output_type": "stream",
          "text": [
            "Mounted at /content/drive\n"
          ]
        }
      ],
      "source": [
        "#@title connect google drive\n",
        "# cloud link：https://drive.google.com/file/d/1J_UhfMNrQkk0y0UY6vyRoPqUH7My9U42/view?usp=share_link\n",
        "from google.colab import drive\n",
        "import pandas as pd\n",
        "\n",
        "drive.mount('/content/drive')"
      ]
    },
    {
      "cell_type": "code",
      "execution_count": null,
      "metadata": {
        "colab": {
          "base_uri": "https://localhost:8080/",
          "height": 424
        },
        "id": "jlapFJElgZc6",
        "outputId": "529c3a7e-6112-43c5-ffce-48d95e39487a"
      },
      "outputs": [],
      "source": [
        "#@title Categorize spam and non-spam emails, and add labels.\n",
        "pd.options.mode.chained_assignment = None  # default='warn'\n",
        "mail = pddf_Full_origin.copy()\n",
        "\n",
        "# Only need to extract Issue_id, Proposed_Question_all, and labels, and add the label spam/ham based on whether labels contain \"Unable to determine\"\n",
        "mail['Description'] = mail['Description'].str.replace(\"<br>\\n\",\", \")\n",
        "mail_question = mail.loc[pddf_Full[\"Description\"].str.startswith((\", 【Problem Report】\"))]\n",
        "mail_wish = mail.loc[pddf_Full[\"Description\"].str.startswith((\", 【Platform Feature Wish】\"))]\n",
        "\n",
        "# Problem report\n",
        "mail_question['proposed_question/request'] = mail_question[\"Description\"].str.extract(r\"((?<=Problem description, ).+(?=, , ▌Reproducibility of the problem))\")\n",
        "mail_question['content_old'] = mail_question[\"Description\"].str.extract(r\"((?<=Reproducibility of the problem, ).+(?=, , ▌Device where the problem occurred))\")\n",
        "mail_question = mail_question.replace(\"No content provided\",' ')\n",
        "mail_question['content'] = mail_question['proposed_question/request'] + ', ' + mail_question['content_old']\n",
        "\n",
        "mail_question['Labels'] = mail['Labels']\n",
        "mail_question = mail_question[['Issue_ID', 'Labels', 'content']]\n",
        "\n",
        "# Platform feature wish\n",
        "mail[\"Description\"] = mail[\"Description\"].str.replace(\"<br>\\n\",\", \")\n",
        "mail_wish = mail.loc[pddf_Full[\"Description\"].str.startswith((\", 【Platform Feature Wish】\"))]\n",
        "\n",
        "mail_wish['proposed_question/request'] = mail_wish[\"Description\"].str.extract(r\"((?<=Requirement description, ).+(?=, , ▌Operation method))\")\n",
        "mail_wish['content_old'] = mail_wish[\"Description\"].str.extract(r\"((?<=Operation method, ).+(?=, , , ==================, 【More information】))\")\n",
        "mail_wish = mail_wish.replace(\"No content provided\",' ')\n",
        "mail_wish['content'] = mail_wish['proposed_question/request'] + ', ' + mail_wish['content_old']\n",
        "\n",
        "mail_wish['Labels'] = mail['Labels']\n",
        "mail_wish = mail_wish[['Issue_ID', 'Labels', 'content']]\n",
        "\n",
        "# spam = 1, ham = 0\n",
        "mail_new = pd.concat([mail_question, mail_wish]).sort_index(axis = 0)\n",
        "mail_spam = mail_new.loc[mail_new['Labels'].str.contains('Customer Service/Other::Unable to determine')]\n",
        "mail_ham = mail_new.loc[mail_new['Labels'].str.contains('Customer Service/Other::Unable to determine') == False]\n",
        "mail_spam['type'] = 1\n",
        "mail_ham['type'] = 0\n",
        "\n",
        "mail_ham = mail_ham[-699:]\n",
        "mail_final = pd.concat([mail_spam, mail_ham]).sort_index(axis = 0)\n",
        "mail_final"
      ]
    },
    {
      "cell_type": "code",
      "execution_count": null,
      "metadata": {
        "cellView": "form",
        "colab": {
          "base_uri": "https://localhost:8080/",
          "height": 424
        },
        "id": "c5MmYYq2HfEf",
        "outputId": "6cfaf527-3571-44c3-de71-ef10a4605f05"
      },
      "outputs": [],
      "source": [
        "#@title Modify columns, keep only 'content' and 'type'\n",
        "mail_final = mail_final[['type', 'content']].reset_index(drop = True)\n",
        "mail_final\n",
        "\n",
        "# Export CSV file\n",
        "from google.colab import files\n",
        "mail_final.to_csv('trash_issue.csv', encoding = 'utf-8-sig')"
      ]
    },
    {
      "cell_type": "code",
      "execution_count": null,
      "metadata": {
        "cellView": "form",
        "colab": {
          "base_uri": "https://localhost:8080/"
        },
        "id": "XCzziAMFmx7v",
        "outputId": "dbe0c29d-d70a-4cda-f92c-4dba56715019"
      },
      "outputs": [
        {
          "name": "stderr",
          "output_type": "stream",
          "text": [
            "Building prefix dict from /content/drive/MyDrive/junyi_dict.txt ...\n",
            "DEBUG:jieba:Building prefix dict from /content/drive/MyDrive/junyi_dict.txt ...\n",
            "Loading model from cache /tmp/jieba.u45aa70aa72f60c74b52885547f3d5d12.cache\n",
            "DEBUG:jieba:Loading model from cache /tmp/jieba.u45aa70aa72f60c74b52885547f3d5d12.cache\n",
            "Loading model cost 1.567 seconds.\n",
            "DEBUG:jieba:Loading model cost 1.567 seconds.\n",
            "Prefix dict has been built successfully.\n",
            "DEBUG:jieba:Prefix dict has been built successfully.\n"
          ]
        }
      ],
      "source": [
        "#@title Use jieba to tokenize the content of trash issues\n",
        "import jieba\n",
        "\n",
        "jieba.set_dictionary('/content/drive/MyDrive/dict.txt')\n",
        "content = mail_final['content'].astype(str)\n",
        "jieba_content = []\n",
        "\n",
        "mail_final['word_bag'] = ' '\n",
        "for i in range(len(content)):\n",
        "  seg = jieba.lcut(content[i], cut_all = False)\n",
        "  mail_final['word_bag'][i] = seg"
      ]
    },
    {
      "cell_type": "code",
      "execution_count": null,
      "metadata": {
        "cellView": "form",
        "colab": {
          "base_uri": "https://localhost:8080/",
          "height": 478
        },
        "id": "BJVFZVdd83iT",
        "outputId": "2bcf4afb-5db7-43e7-edef-99ee02f3dd21"
      },
      "outputs": [
        {
          "name": "stderr",
          "output_type": "stream",
          "text": [
            "/usr/local/lib/python3.7/dist-packages/sklearn/utils/deprecation.py:87: FutureWarning: Function get_feature_names is deprecated; get_feature_names is deprecated in 1.0 and will be removed in 1.2. Please use get_feature_names_out instead.\n",
            "  warnings.warn(msg, category=FutureWarning)\n"
          ]
        },
        {
          "data": {
            "text/html": [
              "\n",
              "  <div id=\"df-701d0bb3-41dc-4664-8735-f6dc807b8723\">\n",
              "    <div class=\"colab-df-container\">\n",
              "      <div>\n",
              "<style scoped>\n",
              "    .dataframe tbody tr th:only-of-type {\n",
              "        vertical-align: middle;\n",
              "    }\n",
              "\n",
              "    .dataframe tbody tr th {\n",
              "        vertical-align: top;\n",
              "    }\n",
              "\n",
              "    .dataframe thead th {\n",
              "        text-align: right;\n",
              "    }\n",
              "</style>\n",
              "<table border=\"1\" class=\"dataframe\">\n",
              "  <thead>\n",
              "    <tr style=\"text-align: right;\">\n",
              "      <th></th>\n",
              "      <th>type</th>\n",
              "      <th>feature</th>\n",
              "    </tr>\n",
              "  </thead>\n",
              "  <tbody>\n",
              "    <tr>\n",
              "      <th>0</th>\n",
              "      <td>1</td>\n",
              "      <td>[61456145664, 問題描述, 地球, 徽章名稱, 頭貼]</td>\n",
              "    </tr>\n",
              "    <tr>\n",
              "      <th>1</th>\n",
              "      <td>1</td>\n",
              "      <td>[一個, 兩個, 只有, 單位, 四則運算, 怎麼, 應該, 等於]</td>\n",
              "    </tr>\n",
              "    <tr>\n",
              "      <th>2</th>\n",
              "      <td>1</td>\n",
              "      <td>[不見, 五年級, 均一, 題目]</td>\n",
              "    </tr>\n",
              "    <tr>\n",
              "      <th>3</th>\n",
              "      <td>1</td>\n",
              "      <td>[看不懂, 老師, 聽不懂, 討厭, 軍醫, 題目]</td>\n",
              "    </tr>\n",
              "    <tr>\n",
              "      <th>4</th>\n",
              "      <td>1</td>\n",
              "      <td>[一下, 一切, 一樣, 不但, 不同, 不用, 事情, 人格, 人為, 人類, 你們, 候...</td>\n",
              "    </tr>\n",
              "    <tr>\n",
              "      <th>...</th>\n",
              "      <td>...</td>\n",
              "      <td>...</td>\n",
              "    </tr>\n",
              "    <tr>\n",
              "      <th>1393</th>\n",
              "      <td>0</td>\n",
              "      <td>[10, 11, 23, 24, 今日, 任務, 只能, 學生, 查詢, 看不到, 看到]</td>\n",
              "    </tr>\n",
              "    <tr>\n",
              "      <th>1394</th>\n",
              "      <td>0</td>\n",
              "      <td>[你們, 到底, 壞掉, 幹嘛, 怎麼, 沒有, 發布, 補償, 解題說明, 負責]</td>\n",
              "    </tr>\n",
              "    <tr>\n",
              "      <th>1395</th>\n",
              "      <td>0</td>\n",
              "      <td>[問答, 沒有, 留言]</td>\n",
              "    </tr>\n",
              "    <tr>\n",
              "      <th>1396</th>\n",
              "      <td>0</td>\n",
              "      <td>[區域, 問題, 燈泡, 顯示]</td>\n",
              "    </tr>\n",
              "    <tr>\n",
              "      <th>1397</th>\n",
              "      <td>0</td>\n",
              "      <td>[一下, 你們, 可是, 寫裡面, 希望, 算是, 裡面, 謝謝, 這個, 題目]</td>\n",
              "    </tr>\n",
              "  </tbody>\n",
              "</table>\n",
              "<p>1398 rows × 2 columns</p>\n",
              "</div>\n",
              "      <button class=\"colab-df-convert\" onclick=\"convertToInteractive('df-701d0bb3-41dc-4664-8735-f6dc807b8723')\"\n",
              "              title=\"Convert this dataframe to an interactive table.\"\n",
              "              style=\"display:none;\">\n",
              "        \n",
              "  <svg xmlns=\"http://www.w3.org/2000/svg\" height=\"24px\"viewBox=\"0 0 24 24\"\n",
              "       width=\"24px\">\n",
              "    <path d=\"M0 0h24v24H0V0z\" fill=\"none\"/>\n",
              "    <path d=\"M18.56 5.44l.94 2.06.94-2.06 2.06-.94-2.06-.94-.94-2.06-.94 2.06-2.06.94zm-11 1L8.5 8.5l.94-2.06 2.06-.94-2.06-.94L8.5 2.5l-.94 2.06-2.06.94zm10 10l.94 2.06.94-2.06 2.06-.94-2.06-.94-.94-2.06-.94 2.06-2.06.94z\"/><path d=\"M17.41 7.96l-1.37-1.37c-.4-.4-.92-.59-1.43-.59-.52 0-1.04.2-1.43.59L10.3 9.45l-7.72 7.72c-.78.78-.78 2.05 0 2.83L4 21.41c.39.39.9.59 1.41.59.51 0 1.02-.2 1.41-.59l7.78-7.78 2.81-2.81c.8-.78.8-2.07 0-2.86zM5.41 20L4 18.59l7.72-7.72 1.47 1.35L5.41 20z\"/>\n",
              "  </svg>\n",
              "      </button>\n",
              "      \n",
              "  <style>\n",
              "    .colab-df-container {\n",
              "      display:flex;\n",
              "      flex-wrap:wrap;\n",
              "      gap: 12px;\n",
              "    }\n",
              "\n",
              "    .colab-df-convert {\n",
              "      background-color: #E8F0FE;\n",
              "      border: none;\n",
              "      border-radius: 50%;\n",
              "      cursor: pointer;\n",
              "      display: none;\n",
              "      fill: #1967D2;\n",
              "      height: 32px;\n",
              "      padding: 0 0 0 0;\n",
              "      width: 32px;\n",
              "    }\n",
              "\n",
              "    .colab-df-convert:hover {\n",
              "      background-color: #E2EBFA;\n",
              "      box-shadow: 0px 1px 2px rgba(60, 64, 67, 0.3), 0px 1px 3px 1px rgba(60, 64, 67, 0.15);\n",
              "      fill: #174EA6;\n",
              "    }\n",
              "\n",
              "    [theme=dark] .colab-df-convert {\n",
              "      background-color: #3B4455;\n",
              "      fill: #D2E3FC;\n",
              "    }\n",
              "\n",
              "    [theme=dark] .colab-df-convert:hover {\n",
              "      background-color: #434B5C;\n",
              "      box-shadow: 0px 1px 3px 1px rgba(0, 0, 0, 0.15);\n",
              "      filter: drop-shadow(0px 1px 2px rgba(0, 0, 0, 0.3));\n",
              "      fill: #FFFFFF;\n",
              "    }\n",
              "  </style>\n",
              "\n",
              "      <script>\n",
              "        const buttonEl =\n",
              "          document.querySelector('#df-701d0bb3-41dc-4664-8735-f6dc807b8723 button.colab-df-convert');\n",
              "        buttonEl.style.display =\n",
              "          google.colab.kernel.accessAllowed ? 'block' : 'none';\n",
              "\n",
              "        async function convertToInteractive(key) {\n",
              "          const element = document.querySelector('#df-701d0bb3-41dc-4664-8735-f6dc807b8723');\n",
              "          const dataTable =\n",
              "            await google.colab.kernel.invokeFunction('convertToInteractive',\n",
              "                                                     [key], {});\n",
              "          if (!dataTable) return;\n",
              "\n",
              "          const docLinkHtml = 'Like what you see? Visit the ' +\n",
              "            '<a target=\"_blank\" href=https://colab.research.google.com/notebooks/data_table.ipynb>data table notebook</a>'\n",
              "            + ' to learn more about interactive tables.';\n",
              "          element.innerHTML = '';\n",
              "          dataTable['output_type'] = 'display_data';\n",
              "          await google.colab.output.renderOutput(dataTable, element);\n",
              "          const docLink = document.createElement('div');\n",
              "          docLink.innerHTML = docLinkHtml;\n",
              "          element.appendChild(docLink);\n",
              "        }\n",
              "      </script>\n",
              "    </div>\n",
              "  </div>\n",
              "  "
            ],
            "text/plain": [
              "      type                                            feature\n",
              "0        1                  [61456145664, 問題描述, 地球, 徽章名稱, 頭貼]\n",
              "1        1                 [一個, 兩個, 只有, 單位, 四則運算, 怎麼, 應該, 等於]\n",
              "2        1                                  [不見, 五年級, 均一, 題目]\n",
              "3        1                         [看不懂, 老師, 聽不懂, 討厭, 軍醫, 題目]\n",
              "4        1  [一下, 一切, 一樣, 不但, 不同, 不用, 事情, 人格, 人為, 人類, 你們, 候...\n",
              "...    ...                                                ...\n",
              "1393     0      [10, 11, 23, 24, 今日, 任務, 只能, 學生, 查詢, 看不到, 看到]\n",
              "1394     0         [你們, 到底, 壞掉, 幹嘛, 怎麼, 沒有, 發布, 補償, 解題說明, 負責]\n",
              "1395     0                                       [問答, 沒有, 留言]\n",
              "1396     0                                   [區域, 問題, 燈泡, 顯示]\n",
              "1397     0          [一下, 你們, 可是, 寫裡面, 希望, 算是, 裡面, 謝謝, 這個, 題目]\n",
              "\n",
              "[1398 rows x 2 columns]"
            ]
          },
          "execution_count": 28,
          "metadata": {},
          "output_type": "execute_result"
        }
      ],
      "source": [
        "#@title After tokenizing the strings, extract features\n",
        "from sklearn.feature_extraction.text import CountVectorizer, TfidfVectorizer\n",
        "\n",
        "# vectorizer = CountVectorizer(stop_words=None, token_pattern=\"(?u)\\\\b\\\\w\\\\w+\\\\b\")\n",
        "vectorizer = TfidfVectorizer(stop_words = None, token_pattern = \"(?u)\\\\b\\\\w\\\\w+\\\\b\")\n",
        "feature_list = []\n",
        "\n",
        "for i in range(len(mail_final)):\n",
        "  try:\n",
        "    cv = vectorizer.fit_transform(mail_final['word_bag'][i])\n",
        "    feature = vectorizer.get_feature_names()\n",
        "    feature_list.append(feature)\n",
        "  except:\n",
        "    feature = 'None'\n",
        "    feature_list.append(feature)\n",
        "\n",
        "mail_final['feature'] = feature_list\n",
        "mail_final = mail_final[['type', 'feature']]\n",
        "mail_final"
      ]
    },
    {
      "cell_type": "code",
      "execution_count": null,
      "metadata": {
        "colab": {
          "base_uri": "https://localhost:8080/"
        },
        "id": "_s-G6CabRQKs",
        "outputId": "0eddd327-fcfd-403d-8fac-c7ca5d525800"
      },
      "outputs": [
        {
          "name": "stdout",
          "output_type": "stream",
          "text": [
            "The accuracy rate:  83.57 %\n"
          ]
        }
      ],
      "source": [
        "#@title Apply sklearn\n",
        "# Here, facing data imbalance problem, we need to use random data to validate the model to get further accuracy rate.\n",
        "\n",
        "import numpy as np\n",
        "from sklearn.naive_bayes import MultinomialNB\n",
        "from sklearn.model_selection import train_test_split\n",
        "from sklearn.utils import shuffle\n",
        "from sklearn.feature_extraction.text import TfidfVectorizer, CountVectorizer\n",
        "from sklearn.pipeline import make_pipeline\n",
        "import warnings\n",
        "warnings.filterwarnings(action='ignore', category=DeprecationWarning)\n",
        "np.warnings.filterwarnings('ignore', category=np.VisibleDeprecationWarning)\n",
        "\n",
        "# Split into training and testing sets\n",
        "X_train, Y_train, X_test, Y_test = train_test_split(mail_final['feature'], mail_final['type'], test_size=0.2, shuffle=True)\n",
        "X_train = X_train.tolist()\n",
        "X_test = np.array(X_test.tolist())\n",
        "Y_train = np.array(Y_train.tolist())\n",
        "Y_test = np.array(Y_test.tolist())\n",
        "\n",
        "l = Y_train\n",
        "# Convert data to matrices\n",
        "new_X_train = []\n",
        "for i in range(len(X_train)):\n",
        "    word = ' '\n",
        "    word = word.join(X_train[i])\n",
        "    new_X_train.append(word)\n",
        "\n",
        "new_Y_train = []\n",
        "for i in range(len(Y_train)):\n",
        "    word = ' '\n",
        "    word = word.join(Y_train[i])\n",
        "    new_Y_train.append(word)\n",
        "\n",
        "# Apply tf-idf or count vectorizer\n",
        "# tv = TfidfVectorizer()\n",
        "# X_train = tv.fit_transform(new_X_train)\n",
        "# Y_train = tv.transform(new_Y_train)\n",
        "\n",
        "cv = CountVectorizer()\n",
        "X_train = cv.fit_transform(new_X_train)\n",
        "Y_train = cv.transform(new_Y_train)\n",
        "\n",
        "# Start prediction\n",
        "model = MultinomialNB()\n",
        "model.fit(X_train, X_test)\n",
        "output = model.predict(Y_train)\n",
        "\n",
        "# random_num = round(len(output) * 0.14)\n",
        "# random_data = np.random.permutation([0] * random_num + [1] * (len(output) - random_num)) # Be sure to use random data to validate the model\n",
        "\n",
        "final = round(np.mean(output == Y_test), 4) * 100\n",
        "print('The accuracy rate: ', final, '%')\n",
        "\n",
        "# random_final = round(np.mean(random_data == Y_test), 4) * 100\n",
        "# print('The accuracy rate: ', random_final, '%')"
      ]
    },
    {
      "cell_type": "code",
      "execution_count": null,
      "metadata": {
        "colab": {
          "base_uri": "https://localhost:8080/"
        },
        "id": "YdlHUteJi6Xf",
        "outputId": "7fde0a7a-6a52-44a2-f1b1-9c8e5b8ff331"
      },
      "outputs": [
        {
          "name": "stdout",
          "output_type": "stream",
          "text": [
            "(array([ 16,  28,  32,  38,  40,  54,  59,  76,  81,  95,  96, 104, 106,\n",
            "       112, 121, 129, 136, 140, 142, 150, 152, 164, 167, 169, 172, 182,\n",
            "       184, 185, 188, 196, 197, 199, 200, 208, 211, 214, 220, 232, 238,\n",
            "       244, 245, 249, 259, 264, 273, 276]),)\n",
            "[list(['儲存', '國際足球', '測驗', '藥物']) list(['拉拉', '烏烏烏', '知道'])\n",
            " list(['egasegasrgrrhhrththetethethtethth', '今天', '你好', '星期'])\n",
            " list(['一一']) list(['似乎', '幾次', '改錯', '沒用']) 'None'\n",
            " list(['3333333333333333333333333333333333333333333666666666666666666666666666666666666666666666666666777777777777777777777777777777777777777777777777777777777uuuuuuu77777', 'tw', 'uujuhuhuhuhhuvgyctrfyubjnhh'])\n",
            " list(['不是', '卵產到', '媽媽', '懷孕', '海馬', '爸爸', '而是', '育兒', '育兒袋'])\n",
            " list(['13', '15', '16', '25', '30', '33', '50', '88', 'color', 'dfrac', 'div', 'fuchsia', 'times', '下面', '之前', '假分數', '分數', '化為', '填入', '帶分數', '最後', '空格', '答案', '算式', '簡分數', '解題說明', '除法'])\n",
            " list(['nan']) list(['nan']) list(['了解', '按鈕', '數學', '更進一步'])\n",
            " list(['上課', '使用', '停課', '在家', '學校', '小朋友', '平台', '所以', '方便', '疫情', '關係'])\n",
            " list(['打字', '答案', '錯誤'])\n",
            " list(['一把', '一鍵', '不會', '使用', '入時', '可以', '幫助', '成功', '有人', '無法'])\n",
            " list(['可以', '回報', '答案', '跟算試']) list(['nan']) list(['nan'])\n",
            " list(['可以', '問題', '因為']) list(['edu', 'go', 'st7958222', 'tn', 'tw'])\n",
            " list(['nan']) list(['一般'])\n",
            " list(['1500', '2000', '卵細胞', '吐痰', '明明', '沒有', '清掉', '產生', '臉上', '萎縮', '雖然', '難道'])\n",
            " list(['少出', '陷阱'])\n",
            " list(['六個', '卻還', '夏日大作戰', '完賽', '已經', '徽章', '沒收', '自己'])\n",
            " list(['地方', '奇怪', '左上角', '幾次', '答對'])\n",
            " list(['使用', '在家', '學習', '方便', '易懂', '簡易', '課時'])\n",
            " list(['功能', '怪怪的', '沒有', '然後', '題目', '顯示'])\n",
            " list(['修正', '正確', '解答', '進行', '選項', '需要'])\n",
            " list(['做答', '打不出', '數字', '無法', '題目']) list(['nan'])\n",
            " list(['2l4ji394e04a865342', '2l4ji3y94283gkak4', '2l4ji3y94e04a862', '31j45', '3ul4jp4wu6cjo61l4nj1j45', '3ul4rm31l4', '45', '6u3ru83gk4su3cp3xu4c942k7cj84su4u', 'aw', 'e9', 'fuhfw', 'g453vu', 'gdfvos', 'gh', 'ji3u', 'op', 're', 'rewgea', 'riti', 'ru', 'strrre', 'teeygruhg', 'tjp6j6xul6vu', 'tjp6ru', 'uy', 'we', '告訴', '問題', '帳號', '我們', '遇到'])\n",
            " list(['不是', '中括號', '就是', '應該', '簡單', '開來'])\n",
            " list(['10', '101', '14', '144m', '20', '2019', '243', '30mins', '33', '35', '40', '78', '80', 'address', 'also', 'april', 'brick', 'by33', 'chadars', 'city', 'comments', 'copyright', 'email', 'enter', 'entry', 'field', 'follow', 'gallery', 'gd', 'height', 'ho', 'hour', 'instagram', 'km', 'lab', 'labi', 'leave', 'like', 'might', 'mint', 'near', 'next', 'no', 'outside', 'photo', 'pin', 'post', 'previous', 'reply', 'studio', 'taipei', 'tcdc', 'text', 'vivir', 'wang', 'website', 'yard', 'you', 'your', '一不注意', '一個', '一步', '一起', '一趟', '一邊', '一部', '三井', '三人', '三個', '三線', '三角測量', '三重', '下山', '不同', '不由', '不解', '不錯', '世人', '丘陵', '並命', '並有', '中心', '主要', '之一', '之中', '之地', '之後', '事務所', '亞利桑納', '交替', '交界', '交通', '交錯', '人頭', '仙人', '仙跡', '仰光', '任意', '伊斯坦堡', '伊茲密爾', '伏石', '位於', '位置', '何仙姑', '作品', '使用', '來到', '來訪', '依舊', '便宜', '便是', '俱樂部', '個人', '停車場', '備註', '傳說', '光譜', '克羅', '入口', '內華達州', '兩層', '八仙', '公園', '公館', '其他', '冬日', '凡間', '出現', '分享', '分鐘', '創意設計', '劃為', '加入', '匆促', '北竿', '午後', '南投', '南洋', '南港', '南竿', '博物館', '原本', '反而', '取代', '古稱', '古道', '另鳥群', '只是', '可以', '可停', '可愛', '可謂', '台北', '台北市', '台北盆地', '名牌', '名稱', '吐司', '向上', '呂洞賓', '呆待', '咖啡', '哥本哈根', '唯有', '喜濕', '喧囂', '單攻', '四月', '圖書館', '土地', '在世', '地下', '地主', '地勢', '地址', '地方', '地殼', '地質', '坡道', '城市', '基點', '增健氣', '外屬', '夜市', '大地', '大城', '大學', '大山', '大成', '大眾', '大約', '大量', '天時', '天然林', '太研', '好處', '如何', '姑婆', '安塔利亞', '安特衛普', '宜蘭', '宿霧', '密毛', '實景', '實驗場', '寺院', '專注', '尋覓', '對立', '小時', '小毛', '小貓', '居民', '屋頂花園', '展望', '屬於', '山茶花', '山莊', '山頂', '岩有', '巖前', '巡禮', '工務局', '工程處', '巨石', '平台', '平緩', '幽靜', '底下', '底層', '康雅', '廚房', '廟前', '廣場', '建立', '引人注意', '形成', '彼此', '往日', '後山', '後續', '後花園', '從景興路', '忘卻', '成分', '成為', '我們', '戶外', '手錶', '扶手', '拙劣', '指標', '指認', '按摩', '捷運', '接著', '推入', '提告', '摘自', '撫著', '擾動', '攝影棚', '攤開', '支脈', '放著', '政府', '散步', '文化', '文章', '斯洛', '新北', '新瀉', '新竹', '方便', '旁人', '日式', '日日', '早期', '明顯', '春生', '時代', '時節', '時間', '晚餐', '景美', '景興路', '景華', '曼谷', '有心人', '有權', '有著', '期待', '木炭', '東京', '東南', '松鼠', '林口', '林相', '林間', '柳杉', '桫欏', '森林', '植栽', '植栽牌', '植物', '植物園', '構成', '構木', '樂樂', '機廠', '橫山', '欣喜若狂', '正好', '步行', '步道', '民國', '沈積岩', '沒有', '河畔', '沿途', '泰國', '洛杉磯', '浪漫', '海拔', '淡水', '渡船頭', '溫泉', '演替', '澡堂', '為石', '無力', '熱烈', '熱鬧', '牌坊', '物種', '特性', '猶他州', '璞園', '環境', '由不得', '由來', '留下', '留言', '當代', '登山', '登頂', '發佈', '百岳八秀', '百年', '相思樹', '相望', '相當', '看到', '眺望', '石像', '石板', '石灰質', '石燈', '石階', '石龍', '砂岩', '破曉', '硬度', '礁溪', '礦物', '福澳港', '私人', '空氣', '空總', '筋骸', '簡單', '糖霜', '糯米', '紀念', '紐約', '素食', '細路', '組成', '結核', '經驗', '綠意盎然', '維尼亞', '網址', '網站', '縱橫', '美學', '美軍', '美食', '群相', '老房子', '老街', '而且', '聖地牙哥', '聖母', '聯想', '能見', '腳印', '自然', '至此', '臺北', '臺北市', '臺北盆地', '臺灣', '花園', '花藝', '茶山', '萬華', '落下', '著植', '蕨類植物', '藝術', '蛋餅', '蟾蜍', '血桐', '行列', '行程', '製造', '西亞', '西區', '訂閱', '計畫', '討論', '記錄', '訪問', '設置', '設計', '請勿', '變動', '赤腹', '赫爾辛', '走進', '走過', '足跡', '距離', '路上', '車站', '軍路', '迴響', '迷宮', '追求', '追蹤', '途中', '這裡', '通知', '造林', '進入', '運動', '運輸', '遷徙', '選擇', '邊緣', '部分', '都市', '都市計畫', '野地', '金城', '鐵皮', '鐵道', '長壽', '長生', '開花', '開車', '闊葉林', '闖入', '關西', '附近', '陽性植物', '陽明山', '階梯', '隨之', '雕塑', '雙腳', '雜叢', '雲遊', '電子郵件', '露頭', '面前', '頻繁', '顏色', '顯示', '風化', '風情', '風景', '風景區', '風華', '飯店', '馬祖', '駐足', '騎龍'])\n",
            " list(['一定', '不算', '不能', '你們', '偏要', '出來', '十字', '反應', '可以', '問題', '承認', '東西', '沒有', '沒錯', '甚麼', '真的', '答案', '系統', '而且', '規定', '還要', '重視'])\n",
            " list(['不會', '闖荒']) list(['ray', 'testing']) list(['uu'])\n",
            " list(['a2', '一只', '字體', '架动家', '條件', '毛大', '沙灘', '相似', '辭班尹', '额元'])\n",
            " list(['一次', '一步', '你們', '俄買木', '問題', '太倉促', '如同', '妹妹', '所有', '摩擦', '早日', '村民', '每次', '突然', '舞台'])\n",
            " list(['一直', '出現', '已過期', '系統', '網頁'])\n",
            " list(['兩次', '參考', '參觀', '可以', '材料', '策略', '累累', '過了', '餐廳']) list(['g4'])\n",
            " list(['寫成', '指數', '數字', '正常']) list(['nan'])\n",
            " list(['52', '外面', '根號', '等於', '負好'])]\n"
          ]
        }
      ],
      "source": [
        "#@title Check the content of mispredicted emails\n",
        "misclassified_indices = np.where(output != Y_test)\n",
        "print(misclassified_indices)\n",
        "correctly_classified_indices = np.where(output == Y_test)\n",
        "\n",
        "for i in misclassified_indices:\n",
        "    print(l[i])\n",
        "\n",
        "# for j in correctly_classified_indices:\n",
        "#   print(l[j])"
      ]
    },
    {
      "cell_type": "code",
      "execution_count": null,
      "metadata": {
        "cellView": "form",
        "colab": {
          "base_uri": "https://localhost:8080/",
          "height": 312
        },
        "id": "bb-pjF69B2y7",
        "outputId": "22a8b496-8b76-4c5f-c977-a296f8da75f7"
      },
      "outputs": [
        {
          "name": "stdout",
          "output_type": "stream",
          "text": [
            "[0.         0.04861111 1.        ] [0.         0.60294118 1.        ] [2 1 0]\n"
          ]
        },
        {
          "data": {
            "image/png": "[encoded data removed]",
            "text/plain": [
              "<Figure size 432x288 with 1 Axes>"
            ]
          },
          "metadata": {
            "needs_background": "light"
          },
          "output_type": "display_data"
        }
      ],
      "source": [
        "#@title Run ROC analysis\n",
        "import numpy as np\n",
        "import matplotlib.pyplot as plt\n",
        "from sklearn.metrics import roc_curve, roc_auc_score, auc\n",
        "\n",
        "df_actual = pd.DataFrame([Y_test])\n",
        "df_actual = df_actual.T\n",
        "\n",
        "df_predicted = pd.DataFrame([output])\n",
        "df_predicted = df_predicted.T\n",
        "\n",
        "fpr, tpr, threshold = roc_curve(df_actual, df_predicted)\n",
        "print(fpr, tpr, threshold)\n",
        "\n",
        "auc_value = auc(fpr, tpr)\n",
        "## Plot the result\n",
        "plt.title('Receiver Operating Characteristic')\n",
        "plt.plot(fpr, tpr, color='orange', label='AUC = %0.2f' % auc_value)\n",
        "plt.legend(loc='lower right')\n",
        "plt.plot([0, 1], [0, 1], 'r--')\n",
        "plt.xlim([0, 1])\n",
        "plt.ylim([0, 1])\n",
        "plt.ylabel('True Positive Rate')\n",
        "plt.xlabel('False Positive Rate')\n",
        "plt.show()"
      ]
    },
    {
      "cell_type": "code",
      "execution_count": null,
      "metadata": {
        "cellView": "form",
        "id": "ueDuMXkR_A0N"
      },
      "outputs": [],
      "source": [
        "#@title Add words to the vocabulary (If there are missing words, you need to re-enter each time you restart)\n",
        "#@markdown Please enter the text to be added to the vocabulary: (Enter one at a time)\n",
        "\n",
        "word = \"\\u89AA\\u5E2B\\u751F\" #@param {type: \"string\"}\n",
        "jieba.add_word(word)"
      ]
    }
  ],
  "metadata": {
    "colab": {
      "collapsed_sections": [
        "_WX-ivfN0efv",
        "mVnE2Tp00K2s"
      ],
      "provenance": []
    },
    "kernelspec": {
      "display_name": "Python 3",
      "name": "python3"
    },
    "language_info": {
      "name": "python"
    }
  },
  "nbformat": 4,
  "nbformat_minor": 0
}
