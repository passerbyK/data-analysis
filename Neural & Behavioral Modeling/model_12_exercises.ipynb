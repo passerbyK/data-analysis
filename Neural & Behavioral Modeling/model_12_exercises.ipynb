{
 "cells": [
  {
   "cell_type": "markdown",
   "metadata": {
    "id": "mWzfjamnC2HI"
   },
   "source": [
    "# Neural & Behavioral Modeling - Week 12 (Exercises)\n",
    "by 黃翔易 (b08303047@ntu.edu.tw)"
   ]
  },
  {
   "cell_type": "code",
   "execution_count": 1,
   "metadata": {
    "id": "gBlsi2YWC2HK"
   },
   "outputs": [],
   "source": [
    "%config IPCompleter.greedy=True \n",
    "%matplotlib inline\n",
    "from matplotlib.pyplot import *\n",
    "from IPython.display import *\n",
    "import numpy as np\n",
    "import torch as t\n",
    "from torch import nn\n",
    "from torch import optim"
   ]
  },
  {
   "cell_type": "code",
   "execution_count": 2,
   "metadata": {
    "colab": {
     "base_uri": "https://localhost:8080/"
    },
    "id": "yZJOBdQ7C2HL",
    "outputId": "1d1e34da-f05f-47cc-90ef-fc3490a8bdbe"
   },
   "outputs": [
    {
     "name": "stdout",
     "output_type": "stream",
     "text": [
      "PyTorch version: 1.12.1+cu113\n",
      "Device  0 : Tesla T4\n",
      "Current: Device  0\n"
     ]
    }
   ],
   "source": [
    "# Check GPU status:\n",
    "print('PyTorch version:',t.__version__)\n",
    "use_cuda=t.cuda.is_available()\n",
    "if(use_cuda):\n",
    "    for i in range(t.cuda.device_count()):\n",
    "        print('Device ',i,':',t.cuda.get_device_name(i))\n",
    "    print('Current: Device ',t.cuda.current_device())\n",
    "    t.backends.cudnn.benchmark = True \n",
    "    device = t.device(\"cuda\")\n",
    "else:\n",
    "    device = t.device(\"cpu\")\n",
    "    print('No GPU')"
   ]
  },
  {
   "cell_type": "markdown",
   "metadata": {
    "id": "PJDdpdMYC2HL"
   },
   "source": [
    "## 1. RNN on images (4 points)\n",
    "Note that the RNN-based MNIST classifier in 2.1.1 of model_12_examples.ipynb did not apply a softmax as the response function of its last layer.\n",
    "\n",
    "Does adding a softmax make any difference in model prediciton performance? Why or why not?\n",
    "\n",
    "Refs:\n",
    "\n",
    "[1] https://pytorch.org/docs/stable/nn.html \n",
    "\n",
    "[2] https://pytorch.org/docs/stable/nn.functional.html \n",
    "\n",
    "[3] https://pytorch.org/docs/stable/_modules/torch/nn/modules/loss.html"
   ]
  },
  {
   "cell_type": "code",
   "execution_count": 3,
   "metadata": {
    "id": "i4iC0x3EC2HM"
   },
   "outputs": [],
   "source": [
    "# Thoe model in 2.1.1 of 12_examples.ipynb:\n",
    "\n",
    "class RNN_Old(nn.Module):\n",
    "    def __init__(self):\n",
    "        super(RNN_Old, self).__init__()\n",
    "        self.rnn = nn.RNN(input_size = 28, hidden_size = 128, num_layers = 1, batch_first = True)\n",
    "        self.classifier = nn.Linear(128,10)\n",
    "        \n",
    "    def forward(self, input):\n",
    "        output,_ = self.rnn(input, None)\n",
    "        output = self.classifier(output[:,-1,:])\n",
    "        return output"
   ]
  },
  {
   "cell_type": "code",
   "execution_count": 4,
   "metadata": {
    "id": "J_w-ngT3C2HM"
   },
   "outputs": [],
   "source": [
    "# RNN with Softmax:\n",
    "\n",
    "class RNN_New(nn.Module):\n",
    "    def __init__(self):\n",
    "        super(RNN_New, self).__init__()\n",
    "        self.rnn = nn.RNN(input_size = 28, hidden_size = 128, num_layers = 1, batch_first = True)\n",
    "        self.classifier = nn.Linear(128,10)\n",
    "        self.softmax = nn.Softmax(dim = 1) # add Softmax\n",
    "        \n",
    "    def forward(self, input):\n",
    "        output,_ = self.rnn(input, None)\n",
    "        output = self.classifier(output[:,-1,:])\n",
    "        output = self.softmax(output) # add Softmax\n",
    "\n",
    "        return output"
   ]
  },
  {
   "cell_type": "code",
   "execution_count": 6,
   "metadata": {
    "id": "lb58iZMv67Fx"
   },
   "outputs": [],
   "source": [
    "# input dataset:\n",
    "from torchvision import datasets, transforms\n",
    "\n",
    "transform = transforms.Compose([transforms.ToTensor(), transforms.Normalize(mean=[0.5],std=[0.5])])\n",
    "\n",
    "train_set = datasets.MNIST(root = \"./data\", transform = transform, train = True, download = True)\n",
    "\n",
    "train_data = t.utils.data.DataLoader(train_set, batch_size=64, shuffle=True)\n",
    "\n",
    "test_set = datasets.MNIST(root = \"./data\", transform = transform, train = False)\n",
    "\n",
    "test_data = t.utils.data.DataLoader(test_set, batch_size=64, shuffle=True)"
   ]
  },
  {
   "cell_type": "code",
   "execution_count": 42,
   "metadata": {
    "id": "KPEddxn_7ZVg"
   },
   "outputs": [],
   "source": [
    "from datetime import datetime\n",
    "\n",
    "def get_acc(output, label):\n",
    "    total = output.shape[0]\n",
    "    _, pred_label = output.max(1)\n",
    "    num_correct = (pred_label == label).sum().item()\n",
    "    return num_correct / total\n",
    "\n",
    "def train(device, net, train_data, valid_data, num_epochs, optimizer, criterion):\n",
    "    if t.cuda.is_available():\n",
    "        net = net.cuda()\n",
    "    prev_time = datetime.now()\n",
    "    for epoch in range(num_epochs):\n",
    "        train_loss = 0\n",
    "        train_acc = 0\n",
    "        net = net.train()\n",
    "        #for im, label in train_data:\n",
    "        for im, label in train_data:\n",
    "            im=im.view(-1,im.shape[2],im.shape[3])\n",
    "            im = im.to(device)  # (bs, h, w)\n",
    "            label = label.to(device)\n",
    "            # forward\n",
    "            output = net(im)\n",
    "            loss = criterion(output, label)\n",
    "            # backward\n",
    "            optimizer.zero_grad()\n",
    "            loss.backward()\n",
    "            optimizer.step()\n",
    "\n",
    "            train_loss += loss.data.item()\n",
    "            train_acc += get_acc(output, label)\n",
    "\n",
    "        cur_time = datetime.now()\n",
    "        h, remainder = divmod((cur_time - prev_time).seconds, 3600)\n",
    "        m, s = divmod(remainder, 60)\n",
    "        time_str = \"Time %02d:%02d:%02d\" % (h, m, s)\n",
    "        if valid_data is not None:\n",
    "            valid_loss = 0\n",
    "            valid_acc = 0\n",
    "            net = net.eval()\n",
    "            for im, label in valid_data:\n",
    "                with t.no_grad():\n",
    "                    im=im.view(-1,im.shape[2],im.shape[3])\n",
    "                    im = im.to(device)\n",
    "                    label = label.to(device)\n",
    "                output = net(im)\n",
    "                loss = criterion(output, label)\n",
    "                valid_loss += loss.data.item()\n",
    "                valid_acc += get_acc(output, label)\n",
    "            epoch_str = (\n",
    "                \"Epoch %d. Train Loss: %f, Train Acc: %f, Valid Loss: %f, Valid Acc: %f, \"\n",
    "                % (epoch, train_loss / len(train_data),\n",
    "                   train_acc / len(train_data), valid_loss / len(valid_data),\n",
    "                   valid_acc / len(valid_data)))\n",
    "        else:\n",
    "            epoch_str = (\"Epoch %d. Train Loss: %f, Train Acc: %f, \" %\n",
    "                         (epoch, train_loss / len(train_data),\n",
    "                          train_acc / len(train_data)))\n",
    "        prev_time = cur_time\n",
    "        print(epoch_str + time_str)"
   ]
  },
  {
   "cell_type": "code",
   "execution_count": 43,
   "metadata": {
    "colab": {
     "base_uri": "https://localhost:8080/"
    },
    "id": "0txw4tgB63hp",
    "outputId": "f5378e44-2d48-4b27-c657-88ad1d0deccc"
   },
   "outputs": [
    {
     "name": "stdout",
     "output_type": "stream",
     "text": [
      "RNN without Softmax: \n",
      "Epoch 0. Train Loss: 0.741881, Train Acc: 0.754897, Valid Loss: 0.417929, Valid Acc: 0.877687, Time 00:00:11\n",
      "Epoch 1. Train Loss: 0.320613, Train Acc: 0.908782, Valid Loss: 0.229018, Valid Acc: 0.936107, Time 00:00:13\n",
      "Epoch 2. Train Loss: 0.226143, Train Acc: 0.936884, Valid Loss: 0.334650, Valid Acc: 0.896198, Time 00:00:12\n",
      "----------\n",
      "RNN with Softmax: \n",
      "Epoch 0. Train Loss: 1.830643, Train Acc: 0.640259, Valid Loss: 1.677620, Valid Acc: 0.787221, Time 00:00:11\n",
      "Epoch 1. Train Loss: 1.647246, Train Acc: 0.819530, Valid Loss: 1.614393, Valid Acc: 0.850119, Time 00:00:12\n",
      "Epoch 2. Train Loss: 1.601190, Train Acc: 0.863140, Valid Loss: 1.580710, Valid Acc: 0.884654, Time 00:00:14\n"
     ]
    }
   ],
   "source": [
    "# compare the two results:\n",
    "print('RNN without Softmax: ')\n",
    "srn_old = RNN_Old()\n",
    "optimizer_old = optim.Adam(srn_old.parameters())\n",
    "criterion_old = nn.CrossEntropyLoss()\n",
    "train(device, srn_old, train_data, test_data, 3, optimizer_old, criterion_old)\n",
    "\n",
    "print('----------')\n",
    "\n",
    "print('RNN with Softmax: ')\n",
    "srn_new = RNN_New()\n",
    "optimizer_new = optim.Adam(srn_new.parameters())\n",
    "criterion_new = nn.CrossEntropyLoss()\n",
    "train(device, srn_new, train_data, test_data, 3, optimizer_new, criterion_new)"
   ]
  },
  {
   "cell_type": "markdown",
   "metadata": {
    "id": "_5wIws0cK5Fi"
   },
   "source": [
    "## 討論：\n",
    "1. 加入 Softmax 以後，表現下降。不僅是 train/valid loss 都增加，且 train/valid accuracy 也都下降了。\n",
    "2. 討論其原因：\n",
    "  * 理論上，多分類問題加入了 softmax 的表現應該會更好才對，因為 softmax 是要挑選出多種分類中出現機率最高的。\n",
    "  * 而造成表現變差的原因在於 nn.CrossEntropyLoss() 已經內含 softmax 的運算了：「This criterion combines nn.LogSoftmax() and nn.NLLLoss() in one single class.」\n",
    "  * 故，再加入 softmax 等於是做了兩次的 softmax，這會造成結果更差。因此，不用再加 softmax 了。"
   ]
  },
  {
   "cell_type": "markdown",
   "metadata": {
    "id": "WhjQecf9C2HM"
   },
   "source": [
    "## 2. RNN v.s. CNN (4 points)\n",
    "Compare the results of 2.2.1 (RNN) & 2.3.1 (CNN) in model_12_examples.ipynb.\n",
    "\n",
    "The 1D-CNN seems to predict the time series better than the RNN. Why?\n",
    "\n",
    "You may verify your hypotheses by computational experiments."
   ]
  },
  {
   "cell_type": "code",
   "execution_count": 55,
   "metadata": {
    "id": "vUqYNamNUaRD"
   },
   "outputs": [],
   "source": [
    "import pandas as pd\n",
    "ts = pd.read_csv('data.csv', usecols=[1]).dropna().values.astype('float32')"
   ]
  },
  {
   "cell_type": "code",
   "execution_count": 87,
   "metadata": {
    "id": "j9nqUSObNyer"
   },
   "outputs": [],
   "source": [
    "# Normalize:\n",
    "max_value = np.max(ts)\n",
    "min_value = np.min(ts)\n",
    "scalar = max_value - min_value\n",
    "ts = list(map(lambda x: x / scalar, ts))\n",
    "\n",
    "# Prepare windowed data for our RNN model(s):\n",
    "def create_dataset(dataset, look_back=2):\n",
    "    dataX, dataY = [], []\n",
    "    for i in range(len(dataset) - look_back):\n",
    "        a = dataset[i:(i + look_back)]\n",
    "        dataX.append(a)\n",
    "        dataY.append(dataset[i + look_back])\n",
    "    return np.array(dataX), np.array(dataY)\n",
    "\n",
    "data_X, data_Y = create_dataset(ts)\n",
    "\n",
    "# Train-Test split:\n",
    "train_size = int(len(data_X) * 0.7) # 70% for training\n",
    "test_size = len(data_X) - train_size\n",
    "train_X = data_X[:train_size]\n",
    "train_Y = data_Y[:train_size]\n",
    "test_X = data_X[train_size:]\n",
    "test_Y = data_Y[train_size:]\n",
    "\n",
    "train_X = train_X.reshape(-1, 1, 2)\n",
    "train_Y = train_Y.reshape(-1, 1, 1)\n",
    "test_X = test_X.reshape(-1, 1, 2)\n",
    "\n",
    "train_x = t.from_numpy(train_X)\n",
    "train_y = t.from_numpy(train_Y)\n",
    "test_x = t.from_numpy(test_X)"
   ]
  },
  {
   "cell_type": "code",
   "execution_count": 21,
   "metadata": {
    "id": "aM_jxRmfOAdb"
   },
   "outputs": [],
   "source": [
    "class lstm_reg(nn.Module):\n",
    "    def __init__(self, input_size, hidden_size, output_size=1, num_layers=2):\n",
    "        super(lstm_reg, self).__init__()\n",
    "        self.rnn = nn.LSTM(input_size, hidden_size, num_layers) # rnn\n",
    "        self.reg = nn.Linear(hidden_size, output_size) # regression\n",
    "        \n",
    "    def forward(self, x):\n",
    "        x, _ = self.rnn(x) # (seq, batch, hidden)\n",
    "        s, b, h = x.shape\n",
    "        x = x.view(s*b, h) # flatten\n",
    "        x = self.reg(x)\n",
    "        x = x.view(s, b, -1)\n",
    "        return x"
   ]
  },
  {
   "cell_type": "code",
   "execution_count": 26,
   "metadata": {
    "id": "yI42rULnC2HN"
   },
   "outputs": [],
   "source": [
    "# NEW CLASS:\n",
    "class rnn_reg(nn.Module):\n",
    "    def __init__(self, input_size, hidden_size, output_size=1, num_layers=2):\n",
    "        super(rnn_reg, self).__init__()\n",
    "        self.rnn = nn.RNN(input_size, hidden_size, num_layers) # rnn\n",
    "        self.reg = nn.Linear(hidden_size, output_size) # regression\n",
    "        \n",
    "    def forward(self, x):\n",
    "        x, _ = self.rnn(x) # (seq, batch, hidden)\n",
    "        s, b, h = x.shape\n",
    "        x = x.view(s*b, h) # flatten\n",
    "        x = self.reg(x)\n",
    "        x = x.view(s, b, -1)\n",
    "        return x"
   ]
  },
  {
   "cell_type": "code",
   "execution_count": 88,
   "metadata": {
    "colab": {
     "base_uri": "https://localhost:8080/",
     "height": 473
    },
    "id": "dLHbapvgC2HM",
    "outputId": "5ac5cfe5-e406-40de-e238-7c14adf7df13"
   },
   "outputs": [
    {
     "name": "stdout",
     "output_type": "stream",
     "text": [
      "Epoch: 100, Loss: 0.00421\n",
      "Epoch: 200, Loss: 0.00360\n",
      "Epoch: 300, Loss: 0.00156\n",
      "Epoch: 400, Loss: 0.00123\n",
      "Epoch: 500, Loss: 0.00044\n",
      "Epoch: 600, Loss: 0.00021\n",
      "Epoch: 700, Loss: 0.00013\n",
      "Epoch: 800, Loss: 0.00011\n",
      "Epoch: 900, Loss: 0.00010\n",
      "Epoch: 1000, Loss: 0.00009\n",
      "torch.Size([142, 1, 1]) (142,) 144\n",
      "Processing time: 30.313235759735107 sec.\n"
     ]
    },
    {
     "data": {
      "image/png": "[encoded data removed]",
      "text/plain": [
       "<Figure size 432x288 with 1 Axes>"
      ]
     },
     "metadata": {
      "needs_background": "light"
     },
     "output_type": "display_data"
    }
   ],
   "source": [
    "# 2.2.1 (RNN: LSTM):\n",
    "import time\n",
    "\n",
    "net = lstm_reg(input_size=2, hidden_size=10)\n",
    "# net = rnn_reg(input_size=2, hidden_size=10)\n",
    "criterion = nn.MSELoss()\n",
    "optimizer = t.optim.Adam(net.parameters(),lr=1e-2)\n",
    "start = time.time()\n",
    "\n",
    "# Training:\n",
    "for e in range(1000):\n",
    "    # Forward:\n",
    "    out = net(train_x)\n",
    "    loss = criterion(out, train_y)\n",
    "    # Backward:\n",
    "    optimizer.zero_grad()\n",
    "    loss.backward()\n",
    "    optimizer.step()\n",
    "    if (e + 1) % 100 == 0: # print loss every 100 epochs\n",
    "        print('Epoch: {}, Loss: {:.5f}'.format(e + 1, loss.item()))\n",
    "\n",
    "# Testing on the whole series (70% trained + 30% untrained):\n",
    "net = net.eval() \n",
    "data_X2 = data_X.reshape(-1, 1, 2)\n",
    "data_X3 = t.from_numpy(data_X2)\n",
    "pred_test1 = net(data_X3) \n",
    "pred_test2 = pred_test1.view(-1).data.numpy() # reshaping to a simple time series\n",
    "new_data = pred_test2 # new data used for new training\n",
    "end = time.time()\n",
    "print(pred_test1.shape, pred_test2.shape, len(ts))\n",
    "print(f'Processing time: {end - start} sec.')\n",
    "\n",
    "# Visualization:\n",
    "plot(pred_test2, 'r', label='prediction')\n",
    "plot(ts[2:], 'b', label='real');"
   ]
  },
  {
   "cell_type": "code",
   "execution_count": 30,
   "metadata": {
    "colab": {
     "base_uri": "https://localhost:8080/",
     "height": 473
    },
    "id": "bjYkRFWMIkmU",
    "outputId": "d14c83b6-0fb4-4346-c296-d0607edd3d99"
   },
   "outputs": [
    {
     "name": "stdout",
     "output_type": "stream",
     "text": [
      "Epoch: 100, Loss: 0.00387\n",
      "Epoch: 200, Loss: 0.00252\n",
      "Epoch: 300, Loss: 0.00198\n",
      "Epoch: 400, Loss: 0.00159\n",
      "Epoch: 500, Loss: 0.00159\n",
      "Epoch: 600, Loss: 0.00142\n",
      "Epoch: 700, Loss: 0.00165\n",
      "Epoch: 800, Loss: 0.00151\n",
      "Epoch: 900, Loss: 0.00141\n",
      "Epoch: 1000, Loss: 0.00129\n",
      "torch.Size([142, 1, 1]) (142,) 144\n",
      "Processing time: 11.9498929977417 sec.\n"
     ]
    },
    {
     "data": {
      "image/png": "[encoded data removed]",
      "text/plain": [
       "<Figure size 432x288 with 1 Axes>"
      ]
     },
     "metadata": {
      "needs_background": "light"
     },
     "output_type": "display_data"
    }
   ],
   "source": [
    "# 2.2.1 (RNN: RNN):\n",
    "\n",
    "# net = lstm_reg(input_size=2, hidden_size=10)\n",
    "net = rnn_reg(input_size=2, hidden_size=10) # use rnn module\n",
    "criterion = nn.MSELoss()\n",
    "optimizer = t.optim.Adam(net.parameters(),lr=1e-2)\n",
    "start = time.time()\n",
    "\n",
    "# Training:\n",
    "for e in range(1000):\n",
    "    # Forward:\n",
    "    out = net(train_x)\n",
    "    loss = criterion(out, train_y)\n",
    "    # Backward:\n",
    "    optimizer.zero_grad()\n",
    "    loss.backward()\n",
    "    optimizer.step()\n",
    "    if (e + 1) % 100 == 0: # print loss every 100 epochs\n",
    "        print('Epoch: {}, Loss: {:.5f}'.format(e + 1, loss.item()))\n",
    "\n",
    "# Testing on the whole series (70% trained + 30% untrained):\n",
    "net = net.eval() \n",
    "data_X2 = data_X.reshape(-1, 1, 2)\n",
    "data_X3 = t.from_numpy(data_X2)\n",
    "pred_test1 = net(data_X3) \n",
    "pred_test2 = pred_test1.view(-1).data.numpy() # reshaping to a simple time series\n",
    "end = time.time()\n",
    "print(pred_test1.shape, pred_test2.shape, len(ts))\n",
    "print(f'Processing time: {end - start} sec.')\n",
    "\n",
    "# Visualization:\n",
    "plot(pred_test2, 'r', label='prediction')\n",
    "plot(ts[2:], 'b', label='real');"
   ]
  },
  {
   "cell_type": "code",
   "execution_count": 17,
   "metadata": {
    "id": "wpNlrw6gUgQj"
   },
   "outputs": [],
   "source": [
    "class cnn_reg(nn.Module):\n",
    "    def __init__(self, in_channels, hidden_size, output_size, kernel_size):\n",
    "        super(cnn_reg, self).__init__()\n",
    "        self.conv = nn.Conv1d(in_channels=in_channels, out_channels=hidden_size, kernel_size=kernel_size) # in_channels=features\n",
    "        self.reg = nn.Linear(hidden_size, output_size) # regression\n",
    "        \n",
    "    def forward(self, x):\n",
    "        x = self.conv(x) # (batch, channel, input)\n",
    "        x=x.view(x.size()[0], -1) # flatten\n",
    "        x = self.reg(x)\n",
    "        return x"
   ]
  },
  {
   "cell_type": "code",
   "execution_count": 47,
   "metadata": {
    "colab": {
     "base_uri": "https://localhost:8080/",
     "height": 473
    },
    "id": "SThh9qm1C2HN",
    "outputId": "31574638-4a63-4a9e-aafb-3991efb3b2be"
   },
   "outputs": [
    {
     "name": "stdout",
     "output_type": "stream",
     "text": [
      "Epoch: 100, Loss: 0.00612\n",
      "Epoch: 200, Loss: 0.00242\n",
      "Epoch: 300, Loss: 0.00219\n",
      "Epoch: 400, Loss: 0.00203\n",
      "Epoch: 500, Loss: 0.00195\n",
      "Epoch: 600, Loss: 0.00191\n",
      "Epoch: 700, Loss: 0.00190\n",
      "Epoch: 800, Loss: 0.00190\n",
      "Epoch: 900, Loss: 0.00190\n",
      "Epoch: 1000, Loss: 0.00190\n",
      "torch.Size([142, 1]) (142,) 144\n",
      "Processing time: 0.8614828586578369 sec.\n"
     ]
    },
    {
     "data": {
      "image/png": "[encoded data removed]",
      "text/plain": [
       "<Figure size 432x288 with 1 Axes>"
      ]
     },
     "metadata": {
      "needs_background": "light"
     },
     "output_type": "display_data"
    }
   ],
   "source": [
    "# 2.3.1 (CNN):\n",
    "\n",
    "# Train-Test split:\n",
    "data_X4 = np.swapaxes(data_X,1,2) # should be (batch, channel, input)\n",
    "L=data_X4.shape[0]\n",
    "train_size = int(L * 0.7) # 70% for training\n",
    "test_size = L - train_size\n",
    "train_X = data_X4[:train_size]\n",
    "train_Y = data_Y[:train_size]\n",
    "test_X = data_X4[train_size:]\n",
    "test_Y = data_Y[train_size:]\n",
    "\n",
    "train_x = t.from_numpy(train_X)\n",
    "train_y = t.from_numpy(train_Y)\n",
    "test_x = t.from_numpy(test_X)\n",
    "\n",
    "net = cnn_reg(in_channels=1, hidden_size=10, output_size=1, kernel_size=2)\n",
    "criterion = nn.MSELoss()\n",
    "optimizer = t.optim.Adam(net.parameters(),lr=1e-2)\n",
    "start = time.time()\n",
    "\n",
    "# Training:\n",
    "for e in range(1000):\n",
    "    # Forward:\n",
    "    out = net(train_x)\n",
    "    loss = criterion(out, train_y)\n",
    "    # Backward:\n",
    "    optimizer.zero_grad()\n",
    "    loss.backward()\n",
    "    optimizer.step()\n",
    "    if (e + 1) % 100 == 0: # print loss every 100 epochs\n",
    "        print('Epoch: {}, Loss: {:.5f}'.format(e + 1, loss.item()))\n",
    "\n",
    "# Testing on the whole series (70% trained + 30% untrained):\n",
    "net = net.eval() \n",
    "pred_test1 = net(t.from_numpy(data_X4))\n",
    "pred_test2 = pred_test1.view(-1).data.numpy() # reshaping to a simple time series\n",
    "end = time.time()\n",
    "print(pred_test1.shape, pred_test2.shape, len(ts))\n",
    "print(f'Processing time: {end - start} sec.')\n",
    "\n",
    "# Visualization:\n",
    "plot(pred_test2, 'r', label='prediction')\n",
    "plot(ts[2:], 'b', label='real');"
   ]
  },
  {
   "cell_type": "markdown",
   "metadata": {
    "id": "eLtHideTEkIC"
   },
   "source": [
    "## 討論：\n",
    "1. CNN 的執行速度比 RNN（LSTM） 還要快。\n",
    "2. 從圖來看，前 70 % 資料是訓練集，後 30% 是測試集，而從 training loss 來看，RNN（LSTM） 的 training loss 比較小。\n",
    "3. 換言之， 在前 70 % 的表現是 RNN（LSTM） 比較好，但後 30% 測試集是 CNN 的預測正確率比較好。\n",
    "4. 而將 lstm_reg 換成 rnn_reg，預測結果似乎有變好一點，但 training loss 也稍微變大。\n",
    "5. 仔細觀察可發現，RNN（LSTM） 預測不好的原因主要是在圖形的漲幅跟不上實際的資料，而 CNN 雖然預測的比較好，但在時間軸上，CNN 的預測其實都慢半拍（紅色線都在藍色線偏右）。\n",
    "6. 造成 1D-CNN 的表現較好的原因可能有幾個：\n",
    "  * 這裡的資料量只有 142/144 個，實在太少。\n",
    "  * 1D-CNN 適合用來預測具有重複規律的資料，如季節資料。\n",
    "  * RNN 較適合用來預測非固定長度的資料，CNN 則適合預測固定長度的資料。\n",
    "7. 但也許是資料集在短時間成長幅度太大的問題，所以，將 RNN（LSTM）預測出來的資料當成新的資料集來預測，看看會發生什麼事情。"
   ]
  },
  {
   "cell_type": "markdown",
   "metadata": {
    "id": "hjtr_LsebhaZ"
   },
   "source": [
    "## NEW DATASET:"
   ]
  },
  {
   "cell_type": "code",
   "execution_count": 89,
   "metadata": {
    "id": "ENwlPhA3HTwU"
   },
   "outputs": [],
   "source": [
    "# NEW DATASET:\n",
    "data_new = []\n",
    "for i in new_data:\n",
    "    data_new.append([i])\n",
    "\n",
    "data_X, data_Y = create_dataset(data_new)\n",
    "\n",
    "# Train-Test split:\n",
    "train_size = int(len(data_X) * 0.7) # 70% for training\n",
    "test_size = len(data_X) - train_size\n",
    "train_X = data_X[:train_size]\n",
    "train_Y = data_Y[:train_size]\n",
    "test_X = data_X[train_size:]\n",
    "test_Y = data_Y[train_size:]\n",
    "\n",
    "train_X = train_X.reshape(-1, 1, 2)\n",
    "train_Y = train_Y.reshape(-1, 1, 1)\n",
    "test_X = test_X.reshape(-1, 1, 2)\n",
    "\n",
    "train_x = t.from_numpy(train_X)\n",
    "train_y = t.from_numpy(train_Y)\n",
    "test_x = t.from_numpy(test_X)"
   ]
  },
  {
   "cell_type": "code",
   "execution_count": 90,
   "metadata": {
    "colab": {
     "base_uri": "https://localhost:8080/",
     "height": 473
    },
    "id": "7WhYpSylW0tY",
    "outputId": "8f52a60d-b259-4fe6-e1c1-28b946ff83fa"
   },
   "outputs": [
    {
     "name": "stdout",
     "output_type": "stream",
     "text": [
      "Epoch: 100, Loss: 0.00437\n",
      "Epoch: 200, Loss: 0.00356\n",
      "Epoch: 300, Loss: 0.00318\n",
      "Epoch: 400, Loss: 0.00257\n",
      "Epoch: 500, Loss: 0.00087\n",
      "Epoch: 600, Loss: 0.00090\n",
      "Epoch: 700, Loss: 0.00010\n",
      "Epoch: 800, Loss: 0.00005\n",
      "Epoch: 900, Loss: 0.00003\n",
      "Epoch: 1000, Loss: 0.00003\n",
      "torch.Size([140, 1, 1]) (140,) 144\n",
      "Processing time: 25.941770315170288 sec.\n"
     ]
    },
    {
     "data": {
      "image/png": "[encoded data removed]",
      "text/plain": [
       "<Figure size 432x288 with 1 Axes>"
      ]
     },
     "metadata": {
      "needs_background": "light"
     },
     "output_type": "display_data"
    }
   ],
   "source": [
    "# 2.2.1 (RNN: LSTM):\n",
    "import time\n",
    "\n",
    "net = lstm_reg(input_size=2, hidden_size=10)\n",
    "# net = rnn_reg(input_size=2, hidden_size=10)\n",
    "criterion = nn.MSELoss()\n",
    "optimizer = t.optim.Adam(net.parameters(),lr=1e-2)\n",
    "start = time.time()\n",
    "\n",
    "# Training:\n",
    "for e in range(1000):\n",
    "    # Forward:\n",
    "    out = net(train_x)\n",
    "    loss = criterion(out, train_y)\n",
    "    # Backward:\n",
    "    optimizer.zero_grad()\n",
    "    loss.backward()\n",
    "    optimizer.step()\n",
    "    if (e + 1) % 100 == 0: # print loss every 100 epochs\n",
    "        print('Epoch: {}, Loss: {:.5f}'.format(e + 1, loss.item()))\n",
    "\n",
    "# Testing on the whole series (70% trained + 30% untrained):\n",
    "net = net.eval() \n",
    "data_X2 = data_X.reshape(-1, 1, 2)\n",
    "data_X3 = t.from_numpy(data_X2)\n",
    "pred_test1 = net(data_X3) \n",
    "pred_test2 = pred_test1.view(-1).data.numpy() # reshaping to a simple time series\n",
    "end = time.time()\n",
    "print(pred_test1.shape, pred_test2.shape, len(ts))\n",
    "print(f'Processing time: {end - start} sec.')\n",
    "\n",
    "# Visualization:\n",
    "plot(pred_test2, 'r', label='prediction')\n",
    "plot(data_new[2:], 'b', label='real');"
   ]
  },
  {
   "cell_type": "code",
   "execution_count": 91,
   "metadata": {
    "colab": {
     "base_uri": "https://localhost:8080/",
     "height": 473
    },
    "id": "_aOJLtOKZEp8",
    "outputId": "2e94610a-221d-4ce4-f8d4-85f1307fe300"
   },
   "outputs": [
    {
     "name": "stdout",
     "output_type": "stream",
     "text": [
      "Epoch: 100, Loss: 0.00235\n",
      "Epoch: 200, Loss: 0.00207\n",
      "Epoch: 300, Loss: 0.00193\n",
      "Epoch: 400, Loss: 0.00190\n",
      "Epoch: 500, Loss: 0.00190\n",
      "Epoch: 600, Loss: 0.00190\n",
      "Epoch: 700, Loss: 0.00190\n",
      "Epoch: 800, Loss: 0.00190\n",
      "Epoch: 900, Loss: 0.00190\n",
      "Epoch: 1000, Loss: 0.00190\n",
      "torch.Size([140, 1]) (140,) 144\n",
      "Processing time: 0.7684996128082275 sec.\n"
     ]
    },
    {
     "data": {
      "image/png": "[encoded data removed]",
      "text/plain": [
       "<Figure size 432x288 with 1 Axes>"
      ]
     },
     "metadata": {
      "needs_background": "light"
     },
     "output_type": "display_data"
    }
   ],
   "source": [
    "# 2.3.1 (CNN):\n",
    "\n",
    "# Train-Test split:\n",
    "data_X4 = np.swapaxes(data_X,1,2) # should be (batch, channel, input)\n",
    "L=data_X4.shape[0]\n",
    "train_size = int(L * 0.7) # 70% for training\n",
    "test_size = L - train_size\n",
    "train_X = data_X4[:train_size]\n",
    "train_Y = data_Y[:train_size]\n",
    "test_X = data_X4[train_size:]\n",
    "test_Y = data_Y[train_size:]\n",
    "\n",
    "train_x = t.from_numpy(train_X)\n",
    "train_y = t.from_numpy(train_Y)\n",
    "test_x = t.from_numpy(test_X)\n",
    "\n",
    "net = cnn_reg(in_channels=1, hidden_size=10, output_size=1, kernel_size=2)\n",
    "criterion = nn.MSELoss()\n",
    "optimizer = t.optim.Adam(net.parameters(),lr=1e-2)\n",
    "start = time.time()\n",
    "\n",
    "# Training:\n",
    "for e in range(1000):\n",
    "    # Forward:\n",
    "    out = net(train_x)\n",
    "    loss = criterion(out, train_y)\n",
    "    # Backward:\n",
    "    optimizer.zero_grad()\n",
    "    loss.backward()\n",
    "    optimizer.step()\n",
    "    if (e + 1) % 100 == 0: # print loss every 100 epochs\n",
    "        print('Epoch: {}, Loss: {:.5f}'.format(e + 1, loss.item()))\n",
    "\n",
    "# Testing on the whole series (70% trained + 30% untrained):\n",
    "net = net.eval() \n",
    "pred_test1 = net(t.from_numpy(data_X4))\n",
    "pred_test2 = pred_test1.view(-1).data.numpy() # reshaping to a simple time series\n",
    "end = time.time()\n",
    "print(pred_test1.shape, pred_test2.shape, len(ts))\n",
    "print(f'Processing time: {end - start} sec.')\n",
    "\n",
    "# Visualization:\n",
    "plot(pred_test2, 'r', label='prediction')\n",
    "plot(data_new[2:], 'b', label='real');"
   ]
  },
  {
   "cell_type": "markdown",
   "metadata": {
    "id": "Q813LCNgcUuY"
   },
   "source": [
    "## 討論2:\n",
    "1. 這次 RNN（LSTM）學得更好了，training loss 變得更小。\n",
    "2. 這次 RNN（LSTM）的預測看起來也有變好很多，而 CNN 還是一樣不錯。\n",
    "3. 因此，很有可能如前述，在資料量太小的情況下，資料集的變化幅度過快，使得 RNN（LSTM）沒辦法學得很好，而修正資料集以後，就有好一點。\n",
    "4. 不過，還是能觀察到 RNN（LSTM）預測的數值還是會偏低（紅線低於藍線）。\n"
   ]
  }
 ],
 "metadata": {
  "accelerator": "GPU",
  "colab": {
   "provenance": []
  },
  "gpuClass": "standard",
  "kernelspec": {
   "display_name": "Python 3 (ipykernel)",
   "language": "python",
   "name": "python3"
  },
  "language_info": {
   "codemirror_mode": {
    "name": "ipython",
    "version": 3
   },
   "file_extension": ".py",
   "mimetype": "text/x-python",
   "name": "python",
   "nbconvert_exporter": "python",
   "pygments_lexer": "ipython3",
   "version": "3.9.7"
  }
 },
 "nbformat": 4,
 "nbformat_minor": 1
}
