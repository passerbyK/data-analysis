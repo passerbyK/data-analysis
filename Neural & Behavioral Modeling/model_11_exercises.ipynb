{
 "cells": [
  {
   "cell_type": "markdown",
   "metadata": {
    "id": "ipw00u0Nf3Uw"
   },
   "source": [
    "# Neural & Behavioral Modeling - Week 11 (Exercises)\n",
    "by 黃翔易 (b08303047@ntu.edu.tw)"
   ]
  },
  {
   "cell_type": "code",
   "execution_count": 1,
   "metadata": {
    "id": "XiPAWqmAf3Ux"
   },
   "outputs": [],
   "source": [
    "%config IPCompleter.greedy=True \n",
    "%matplotlib inline\n",
    "from matplotlib.pyplot import *\n",
    "from IPython.display import *\n",
    "import numpy as np"
   ]
  },
  {
   "cell_type": "code",
   "execution_count": 2,
   "metadata": {
    "colab": {
     "base_uri": "https://localhost:8080/"
    },
    "id": "3HtzaXiCf3Uy",
    "outputId": "38b44b5f-0367-4acd-9564-ce1125594363"
   },
   "outputs": [
    {
     "name": "stdout",
     "output_type": "stream",
     "text": [
      "PyTorch version: 1.12.1+cu113\n",
      "Device  0 : Tesla T4\n",
      "Current: Device  0\n"
     ]
    }
   ],
   "source": [
    "# Check GPU status:\n",
    "import torch as t\n",
    "print('PyTorch version:',t.__version__)\n",
    "use_cuda=t.cuda.is_available()\n",
    "if(use_cuda):\n",
    "    for i in range(t.cuda.device_count()):\n",
    "        print('Device ',i,':',t.cuda.get_device_name(i))\n",
    "    print('Current: Device ',t.cuda.current_device())\n",
    "    t.backends.cudnn.benchmark = True \n",
    "    device = t.device(\"cuda\")\n",
    "else:\n",
    "    device = t.device(\"cpu\")\n",
    "    print('No GPU')"
   ]
  },
  {
   "cell_type": "markdown",
   "metadata": {
    "id": "kSjNa3oAf3Uz"
   },
   "source": [
    "## 1 Fair Performance Evaluation (2 points)\n",
    "We often compare and assess performances of different model architectures/parameters/hyperparameters. Note that the results are differnt even if you re-run exactly the same code block. This is primarily due to a non-fixed random number seed. Please:\n",
    "\n",
    "(1) run the section 1.2 TEN times and report (a) min, (b) max, (c) mean, & (d) standard deviation of the TESTING accuracies. (2 points)\n",
    "\n",
    "(2) try to fix the random number seeds in numpy & pytorch to see if you can obtain the same results every time in the section 1.2. (2 points)"
   ]
  },
  {
   "cell_type": "markdown",
   "metadata": {
    "id": "J4aR_vCNf3Uz"
   },
   "source": [
    "### 1.0 CIFAR-10 dataset"
   ]
  },
  {
   "cell_type": "code",
   "execution_count": 3,
   "metadata": {
    "colab": {
     "base_uri": "https://localhost:8080/",
     "height": 101,
     "referenced_widgets": [
      "754cf142140d4b23879c06e522f0fb8e",
      "05b1cf7669bd4f69941dd58deff05a09",
      "c39eed8ba6754bbd846c58b71190aa88",
      "dd021c0145074ad9ace6c92c44889cc8",
      "9cfbf2438e6247909b7006184331e109",
      "a93916b7b0d34c21acad7ae94b087f02",
      "ef19e2093a0c46feadde379f24501ccf",
      "fa0a0008a7084addbe5f1043cd70891e",
      "1c40c0b9189c450e9caf432d3989e0da",
      "93eac81d6844404793012bd92e8adf27",
      "655b387b3a7c4fd784e971329de17029"
     ]
    },
    "id": "0fJiS0HRf3Uz",
    "outputId": "2c34bb70-808a-49ed-de30-43016c871067"
   },
   "outputs": [
    {
     "name": "stdout",
     "output_type": "stream",
     "text": [
      "Downloading https://www.cs.toronto.edu/~kriz/cifar-10-python.tar.gz to ./cifar-10-python.tar.gz\n"
     ]
    },
    {
     "data": {
      "application/vnd.jupyter.widget-view+json": {
       "model_id": "754cf142140d4b23879c06e522f0fb8e",
       "version_major": 2,
       "version_minor": 0
      },
      "text/plain": [
       "  0%|          | 0/170498071 [00:00<?, ?it/s]"
      ]
     },
     "metadata": {},
     "output_type": "display_data"
    },
    {
     "name": "stdout",
     "output_type": "stream",
     "text": [
      "Extracting ./cifar-10-python.tar.gz to .\n",
      "Files already downloaded and verified\n"
     ]
    }
   ],
   "source": [
    "# Load the dataset:\n",
    "import torchvision.transforms as transforms\n",
    "from torchvision.datasets import CIFAR10\n",
    "train_set = CIFAR10(root='.', train=True, transform=transforms.ToTensor(), download = True)\n",
    "train_data = t.utils.data.DataLoader(train_set, batch_size=32, shuffle=True)\n",
    "test_set = CIFAR10(root='.', train=False, transform=transforms.ToTensor(), download = True)\n",
    "test_data = t.utils.data.DataLoader(train_set, batch_size=1000, shuffle=True)\n",
    "classes = ('plane', 'car', 'bird', 'cat', 'deer', 'dog', 'frog', 'horse', 'ship', 'truck')"
   ]
  },
  {
   "cell_type": "markdown",
   "metadata": {
    "id": "GwMdeZd2f3Uz"
   },
   "source": [
    "### 1.1 The model"
   ]
  },
  {
   "cell_type": "code",
   "execution_count": 4,
   "metadata": {
    "id": "3ClPEUmtf3U0"
   },
   "outputs": [],
   "source": [
    "# Make the model:\n",
    "import torch.nn as nn\n",
    "import torch.nn.functional as F\n",
    "class Net(nn.Module):\n",
    "    def __init__(self):\n",
    "        super(Net, self).__init__() # = nn.Module.__init__(self)\n",
    "        self.conv1 = nn.Conv2d(3, 6, 5) # in, out, kernel\n",
    "        self.conv2 = nn.Conv2d(6, 16, 5) \n",
    "        self.fc1   = nn.Linear(16*5*5, 120) \n",
    "        self.fc2   = nn.Linear(120, 84)\n",
    "        self.fc3   = nn.Linear(84, 10)\n",
    "    def forward(self, x): # functional expressions\n",
    "        x = F.max_pool2d(F.relu(self.conv1(x)), (2, 2))\n",
    "        x = F.max_pool2d(F.relu(self.conv2(x)), 2) \n",
    "        x = x.view(x.size()[0], -1) \n",
    "        x = F.relu(self.fc1(x))\n",
    "        x = F.relu(self.fc2(x))\n",
    "        x = self.fc3(x)        \n",
    "        return x\n",
    "lenet = Net()\n",
    "lenet = lenet.to(device)\n",
    "loss_fn = t.nn.CrossEntropyLoss()\n",
    "optimizer = t.optim.Adam(lenet.parameters())"
   ]
  },
  {
   "cell_type": "markdown",
   "metadata": {
    "id": "c3xP0GJyf3U0"
   },
   "source": [
    "### 1.2 Training & Testing"
   ]
  },
  {
   "cell_type": "code",
   "execution_count": 5,
   "metadata": {
    "colab": {
     "base_uri": "https://localhost:8080/"
    },
    "id": "HGKnCVVKf3U0",
    "outputId": "b5ae3714-32e8-46bd-ef7e-14e4321402ab"
   },
   "outputs": [
    {
     "name": "stdout",
     "output_type": "stream",
     "text": [
      "test : 0.515\n",
      "test : 0.571\n",
      "test : 0.612\n",
      "test : 0.659\n",
      "test : 0.644\n",
      "test : 0.677\n",
      "test : 0.721\n",
      "test : 0.717\n",
      "test : 0.717\n",
      "test : 0.749\n"
     ]
    }
   ],
   "source": [
    "# run ten times:\n",
    "accuracy = []\n",
    "for _ in range(10):\n",
    "  # Training:\n",
    "  for e in range(2):\n",
    "    for i, (X_train, Y_train) in enumerate(train_data, 0):\n",
    "        X_train,Y_train=X_train.to(device),Y_train.to(device)\n",
    "        Y_pred = lenet(X_train)\n",
    "        loss = loss_fn(Y_pred, Y_train)\n",
    "        lenet.zero_grad()\n",
    "        loss.backward()\n",
    "        optimizer.step()   \n",
    "        Y_pred = lenet(X_train)\n",
    "        Y_pred = t.max(Y_pred,1)[1]\n",
    "     #print('epoch ',e,':',(Y_pred==Y_train).sum().item()/Y_train.shape[0])\n",
    "    \n",
    "    # Testing on a batch:\n",
    "    dataiter = iter(test_data)\n",
    "    X_test, Y_test = dataiter.next() # returning a batch\n",
    "    X_test,Y_test=X_test.to(device),Y_test.to(device)\n",
    "\n",
    "    with t.no_grad():\n",
    "        Y_pred = lenet(X_test)\n",
    "        Y_pred = t.max(Y_pred,1)[1]\n",
    "        test = (Y_pred==Y_test).sum().item()/Y_test.shape[0]\n",
    "        print('test :', test)\n",
    "        accuracy.append(test)"
   ]
  },
  {
   "cell_type": "markdown",
   "metadata": {
    "id": "m4YC0fA0f3U0"
   },
   "source": [
    "### 1.3 Your answers"
   ]
  },
  {
   "cell_type": "code",
   "execution_count": 6,
   "metadata": {
    "colab": {
     "base_uri": "https://localhost:8080/"
    },
    "id": "sE9rrtHHiEFC",
    "outputId": "f64a41e9-0056-4cbd-f7dc-a97191ceff3c"
   },
   "outputs": [
    {
     "name": "stdout",
     "output_type": "stream",
     "text": [
      "min =  0.515\n",
      "max =  0.749\n",
      "mean =  0.6581999999999999\n",
      "std =  0.07064248013766221\n"
     ]
    }
   ],
   "source": [
    "# (1) calculate min, max, mean, standard deviation:\n",
    "min_accuracy = min(accuracy)\n",
    "max_accuracy = max(accuracy)\n",
    "mean = sum(accuracy) / len(accuracy)\n",
    "std = np.std(accuracy)\n",
    "\n",
    "print('min = ', min_accuracy)\n",
    "print('max = ', max_accuracy)\n",
    "print('mean = ', mean)\n",
    "print('std = ', std)"
   ]
  },
  {
   "cell_type": "code",
   "execution_count": 7,
   "metadata": {
    "colab": {
     "base_uri": "https://localhost:8080/"
    },
    "id": "p1rXRLaRi8cC",
    "outputId": "0d06d753-7bb0-41e4-f374-3d51ae87d26b"
   },
   "outputs": [
    {
     "name": "stdout",
     "output_type": "stream",
     "text": [
      "test : 0.484\n",
      "test : 0.484\n",
      "test : 0.484\n",
      "test : 0.484\n",
      "test : 0.484\n",
      "test : 0.484\n",
      "test : 0.484\n",
      "test : 0.484\n",
      "test : 0.484\n",
      "test : 0.484\n"
     ]
    }
   ],
   "source": [
    "# (2) fix the random number:\n",
    "import random\n",
    "\n",
    "new_accuracy = []\n",
    "seed = 1705\n",
    "for _ in range(10):\n",
    "    # Seed\n",
    "    t.manual_seed(seed)\n",
    "    t.cuda.manual_seed(seed)\n",
    "    t.cuda.manual_seed_all(seed)\n",
    "    np.random.seed(seed)\n",
    "    random.seed(seed)\n",
    "    t.backends.cudnn.benchmark = False\n",
    "    t.backends.cudnn.deterministic = True\n",
    "\n",
    "    # Training:\n",
    "    lenet = Net()\n",
    "    lenet = lenet.to(device)\n",
    "    # loss_fn = t.nn.CrossEntropyLoss()\n",
    "    optimizer = t.optim.Adam(lenet.parameters())\n",
    "\n",
    "    for e in range(2):  \n",
    "        for i, (X_train, Y_train) in enumerate(train_data, 0):\n",
    "            X_train,Y_train=X_train.to(device),Y_train.to(device)\n",
    "            Y_pred = lenet(X_train)\n",
    "            loss = loss_fn(Y_pred, Y_train)\n",
    "            lenet.zero_grad()\n",
    "            loss.backward()\n",
    "            optimizer.step()   \n",
    "            Y_pred = lenet(X_train)\n",
    "            Y_pred = t.max(Y_pred,1)[1]\n",
    "        # print('epoch ',e,':',(Y_pred==Y_train).sum().item()/Y_train.shape[0])\n",
    "  \n",
    "    # Testing on a batch:\n",
    "    dataiter = iter(test_data)\n",
    "    X_test, Y_test = dataiter.next() # returning a batch\n",
    "    X_test,Y_test=X_test.to(device),Y_test.to(device)\n",
    "  \n",
    "    with t.no_grad():\n",
    "        Y_pred = lenet(X_test)\n",
    "        Y_pred = t.max(Y_pred,1)[1]\n",
    "        test = (Y_pred==Y_test).sum().item()/Y_test.shape[0]\n",
    "        print('test :', test)\n",
    "        new_accuracy.append(test)"
   ]
  },
  {
   "cell_type": "markdown",
   "metadata": {
    "id": "H4DExWvHPel3"
   },
   "source": [
    "### 討論：\n",
    "1. 關鍵點在於兩個：\n",
    "  * 需要將 seed 放在迴圈之中。\n",
    "  * lenet 需要初始化。\n",
    "2. 但最大的問題點在於，將 DataLoader 設定 shuffle = True，會使得每次的訓練資料與測試資料都不相同，但最後的結果居然都會是相同的。這很神奇。"
   ]
  },
  {
   "cell_type": "markdown",
   "metadata": {
    "id": "6g5WDjnKf3U1"
   },
   "source": [
    "## 2 Universal Approximation Theorem (4 points)\n",
    "\n",
    "Please FAIRLY evaluate whether a deep network learns XOR more efficiently than a shallow network with the same number of model parameters. Please discuss why in either case."
   ]
  },
  {
   "cell_type": "markdown",
   "metadata": {
    "id": "vGIzASrKf3U1"
   },
   "source": [
    "### 2.0 XOR data"
   ]
  },
  {
   "cell_type": "code",
   "execution_count": 8,
   "metadata": {
    "colab": {
     "base_uri": "https://localhost:8080/",
     "height": 265
    },
    "id": "qQrOdtfDf3U1",
    "outputId": "3f5f7172-6736-4582-eee6-2e62461cb35d"
   },
   "outputs": [
    {
     "data": {
      "image/png": "[encoded data removed]",
      "text/plain": [
       "<Figure size 432x288 with 1 Axes>"
      ]
     },
     "metadata": {
      "needs_background": "light"
     },
     "output_type": "display_data"
    }
   ],
   "source": [
    "N=1000 # samples per cluster\n",
    "XY=t.tensor([[5,5],[5,10],[10,5],[10,10]],dtype=t.float32) # 4 cluster centers\n",
    "Z=t.tensor([0,1,1,0]) # category labels\n",
    "t.cat([t.randn(2,1)+XY[0,0],t.randn(2,1)+XY[0,1]],1)\n",
    "xy,z=t.zeros(4*N,2),t.zeros(4*N,dtype=t.int64)\n",
    "for i in range(4):\n",
    "    xy[i*N:(i+1)*N,]=t.rand(N,2)+XY[i,]\n",
    "    z[i*N:(i+1)*N]=Z[i]\n",
    "xy_np=xy.numpy()\n",
    "z_np=z.numpy().astype(int)\n",
    "cmap=np.array([[1,0,0],[0,1,0]])\n",
    "scatter(xy_np[:,0],xy_np[:,1],color=cmap[z_np]);"
   ]
  },
  {
   "cell_type": "markdown",
   "metadata": {
    "id": "oWLvLPxbf3U2"
   },
   "source": [
    "#### 2.1 A shallow net with one hidden layer"
   ]
  },
  {
   "cell_type": "code",
   "execution_count": 23,
   "metadata": {
    "colab": {
     "base_uri": "https://localhost:8080/"
    },
    "id": "s7HvjjBkf3U2",
    "outputId": "e1c91d7b-c239-45b4-fabe-79326e3af232"
   },
   "outputs": [
    {
     "name": "stdout",
     "output_type": "stream",
     "text": [
      "1.0 0.5 0.9452475000000001 0.10509167720971056\n"
     ]
    }
   ],
   "source": [
    "# Number of free parameters: 2*H+H*2=48\n",
    "shallow_acc = []\n",
    "for _ in range(100):\n",
    "    H=12 # number of hidden units\n",
    "    model = t.nn.Sequential(\n",
    "        t.nn.Linear(2, H, bias=False),\n",
    "        t.nn.BatchNorm1d(H),\n",
    "        t.nn.ReLU(),\n",
    "        t.nn.Linear(H, 2, bias=False),\n",
    "        t.nn.Softmax(dim=1)\n",
    "    )\n",
    "    loss_fn = t.nn.CrossEntropyLoss()\n",
    "    optimizer = t.optim.Adam(model.parameters())\n",
    "\n",
    "    for i in range(100):\n",
    "        z_pred = model(xy)\n",
    "        loss = loss_fn(z_pred,z)\n",
    "        model.zero_grad()\n",
    "        loss.backward()\n",
    "        optimizer.step()\n",
    "        z_pred = model(xy) \n",
    "        z_pred = t.max(z_pred,1)[1]\n",
    "        acc = (z_pred==z).sum().item()/xy.shape[0]\n",
    "        # print('epoch ',i,':',(z_pred==z).sum().item()/xy.shape[0])\n",
    "    shallow_acc.append(acc)\n",
    "    \n",
    "print(max(shallow_acc), min(shallow_acc), np.mean(shallow_acc), np.std(shallow_acc))"
   ]
  },
  {
   "cell_type": "markdown",
   "metadata": {
    "id": "6-f07nRuf3U2"
   },
   "source": [
    "#### 2.2 A \"deep\" net with three hidden layers"
   ]
  },
  {
   "cell_type": "code",
   "execution_count": 24,
   "metadata": {
    "colab": {
     "base_uri": "https://localhost:8080/"
    },
    "id": "MP9GCY0Cf3U2",
    "outputId": "2dc00fd9-f1db-4142-c09f-bb0e4521eb95"
   },
   "outputs": [
    {
     "name": "stdout",
     "output_type": "stream",
     "text": [
      "1.0 0.5 0.877135 0.13266888020557044\n"
     ]
    }
   ],
   "source": [
    "# Number of free parameters: 2*H+H*H+H*H+H*2=48\n",
    "deep_acc = []\n",
    "for _ in range(100):\n",
    "    H=4 # number of hidden units\n",
    "    model = t.nn.Sequential(\n",
    "        t.nn.Linear(2, H, bias=False),\n",
    "        t.nn.BatchNorm1d(H),\n",
    "        t.nn.ReLU(),\n",
    "        t.nn.Linear(H, H,bias=False),\n",
    "        t.nn.BatchNorm1d(H),\n",
    "        t.nn.ReLU(),\n",
    "        t.nn.Linear(H, H, bias=False),\n",
    "        t.nn.BatchNorm1d(H),\n",
    "        t.nn.ReLU(),\n",
    "        t.nn.Linear(H, 2, bias=False),\n",
    "        t.nn.Softmax(dim=1)\n",
    "    )\n",
    "    loss_fn = t.nn.CrossEntropyLoss()\n",
    "    optimizer = t.optim.Adam(model.parameters())\n",
    "\n",
    "    for i in range(100):\n",
    "        z_pred = model(xy)\n",
    "        loss = loss_fn(z_pred,z)\n",
    "        model.zero_grad()\n",
    "        loss.backward()\n",
    "        optimizer.step()\n",
    "        z_pred = model(xy) \n",
    "        z_pred = t.max(z_pred,1)[1]\n",
    "        acc = (z_pred==z).sum().item()/xy.shape[0]\n",
    "        # print('epoch ',i,':',(z_pred==z).sum().item()/xy.shape[0])\n",
    "    deep_acc.append(acc)\n",
    "    \n",
    "print(max(deep_acc), min(deep_acc), np.mean(deep_acc), np.std(deep_acc))"
   ]
  },
  {
   "cell_type": "markdown",
   "metadata": {
    "id": "LrVuA1SEf3U2"
   },
   "source": [
    "### 2.3 Your answers"
   ]
  },
  {
   "cell_type": "markdown",
   "metadata": {
    "id": "9p7T0ws9f3U3"
   },
   "source": [
    "1. 將 deep network 的 H 調大以後，正確率可以達到 100%。\n",
    "2. 在 free parameters 的數量皆為 48 時，將淺層網路與深層網路都各跑一百次，淺層網路的正確率平均為 94.52%，深層網路的正確率平均為 87.71%，且深層網路的標準差比較大。整體來說，淺層網路的表現比較好。\n",
    "3. 造成這樣的結果，有以下幾個可能原因：\n",
    "  * 最主要的原因就是這裡所使用的資料量不夠大，且只有兩種分類，但越複雜的網路就需要有更大的資料量，故，使用深層網路來學習較容易造成 overfitting。像是複雜的模型就比較有可能對於 outliers 去做過度的學習。\n",
    "  * 另外，過多層數也可能會造成梯度消失的問題。\n",
    "  * 簡單來說，越複雜的網路可以學得越廣，但不代表能學得更一般化（像是死背答案那樣）。因此，若測試資料出現在深層網路沒學到的地方，則深層網路會無法變通，反而造成正確率下降。\n",
    "4. 至於，要如何評估資料的複雜程度，也許在研究一開始都能先試著用淺層網路來測試看看。\n",
    "5. 結論：需端看不同的資料集而使用相對應的模型。"
   ]
  }
 ],
 "metadata": {
  "accelerator": "GPU",
  "colab": {
   "provenance": []
  },
  "gpuClass": "standard",
  "kernelspec": {
   "display_name": "Python 3 (ipykernel)",
   "language": "python",
   "name": "python3"
  },
  "language_info": {
   "codemirror_mode": {
    "name": "ipython",
    "version": 3
   },
   "file_extension": ".py",
   "mimetype": "text/x-python",
   "name": "python",
   "nbconvert_exporter": "python",
   "pygments_lexer": "ipython3",
   "version": "3.9.7"
  },
  "widgets": {
   "application/vnd.jupyter.widget-state+json": {
    "05b1cf7669bd4f69941dd58deff05a09": {
     "model_module": "@jupyter-widgets/controls",
     "model_module_version": "1.5.0",
     "model_name": "HTMLModel",
     "state": {
      "_dom_classes": [],
      "_model_module": "@jupyter-widgets/controls",
      "_model_module_version": "1.5.0",
      "_model_name": "HTMLModel",
      "_view_count": null,
      "_view_module": "@jupyter-widgets/controls",
      "_view_module_version": "1.5.0",
      "_view_name": "HTMLView",
      "description": "",
      "description_tooltip": null,
      "layout": "IPY_MODEL_a93916b7b0d34c21acad7ae94b087f02",
      "placeholder": "​",
      "style": "IPY_MODEL_ef19e2093a0c46feadde379f24501ccf",
      "value": "100%"
     }
    },
    "1c40c0b9189c450e9caf432d3989e0da": {
     "model_module": "@jupyter-widgets/controls",
     "model_module_version": "1.5.0",
     "model_name": "ProgressStyleModel",
     "state": {
      "_model_module": "@jupyter-widgets/controls",
      "_model_module_version": "1.5.0",
      "_model_name": "ProgressStyleModel",
      "_view_count": null,
      "_view_module": "@jupyter-widgets/base",
      "_view_module_version": "1.2.0",
      "_view_name": "StyleView",
      "bar_color": null,
      "description_width": ""
     }
    },
    "655b387b3a7c4fd784e971329de17029": {
     "model_module": "@jupyter-widgets/controls",
     "model_module_version": "1.5.0",
     "model_name": "DescriptionStyleModel",
     "state": {
      "_model_module": "@jupyter-widgets/controls",
      "_model_module_version": "1.5.0",
      "_model_name": "DescriptionStyleModel",
      "_view_count": null,
      "_view_module": "@jupyter-widgets/base",
      "_view_module_version": "1.2.0",
      "_view_name": "StyleView",
      "description_width": ""
     }
    },
    "754cf142140d4b23879c06e522f0fb8e": {
     "model_module": "@jupyter-widgets/controls",
     "model_module_version": "1.5.0",
     "model_name": "HBoxModel",
     "state": {
      "_dom_classes": [],
      "_model_module": "@jupyter-widgets/controls",
      "_model_module_version": "1.5.0",
      "_model_name": "HBoxModel",
      "_view_count": null,
      "_view_module": "@jupyter-widgets/controls",
      "_view_module_version": "1.5.0",
      "_view_name": "HBoxView",
      "box_style": "",
      "children": [
       "IPY_MODEL_05b1cf7669bd4f69941dd58deff05a09",
       "IPY_MODEL_c39eed8ba6754bbd846c58b71190aa88",
       "IPY_MODEL_dd021c0145074ad9ace6c92c44889cc8"
      ],
      "layout": "IPY_MODEL_9cfbf2438e6247909b7006184331e109"
     }
    },
    "93eac81d6844404793012bd92e8adf27": {
     "model_module": "@jupyter-widgets/base",
     "model_module_version": "1.2.0",
     "model_name": "LayoutModel",
     "state": {
      "_model_module": "@jupyter-widgets/base",
      "_model_module_version": "1.2.0",
      "_model_name": "LayoutModel",
      "_view_count": null,
      "_view_module": "@jupyter-widgets/base",
      "_view_module_version": "1.2.0",
      "_view_name": "LayoutView",
      "align_content": null,
      "align_items": null,
      "align_self": null,
      "border": null,
      "bottom": null,
      "display": null,
      "flex": null,
      "flex_flow": null,
      "grid_area": null,
      "grid_auto_columns": null,
      "grid_auto_flow": null,
      "grid_auto_rows": null,
      "grid_column": null,
      "grid_gap": null,
      "grid_row": null,
      "grid_template_areas": null,
      "grid_template_columns": null,
      "grid_template_rows": null,
      "height": null,
      "justify_content": null,
      "justify_items": null,
      "left": null,
      "margin": null,
      "max_height": null,
      "max_width": null,
      "min_height": null,
      "min_width": null,
      "object_fit": null,
      "object_position": null,
      "order": null,
      "overflow": null,
      "overflow_x": null,
      "overflow_y": null,
      "padding": null,
      "right": null,
      "top": null,
      "visibility": null,
      "width": null
     }
    },
    "9cfbf2438e6247909b7006184331e109": {
     "model_module": "@jupyter-widgets/base",
     "model_module_version": "1.2.0",
     "model_name": "LayoutModel",
     "state": {
      "_model_module": "@jupyter-widgets/base",
      "_model_module_version": "1.2.0",
      "_model_name": "LayoutModel",
      "_view_count": null,
      "_view_module": "@jupyter-widgets/base",
      "_view_module_version": "1.2.0",
      "_view_name": "LayoutView",
      "align_content": null,
      "align_items": null,
      "align_self": null,
      "border": null,
      "bottom": null,
      "display": null,
      "flex": null,
      "flex_flow": null,
      "grid_area": null,
      "grid_auto_columns": null,
      "grid_auto_flow": null,
      "grid_auto_rows": null,
      "grid_column": null,
      "grid_gap": null,
      "grid_row": null,
      "grid_template_areas": null,
      "grid_template_columns": null,
      "grid_template_rows": null,
      "height": null,
      "justify_content": null,
      "justify_items": null,
      "left": null,
      "margin": null,
      "max_height": null,
      "max_width": null,
      "min_height": null,
      "min_width": null,
      "object_fit": null,
      "object_position": null,
      "order": null,
      "overflow": null,
      "overflow_x": null,
      "overflow_y": null,
      "padding": null,
      "right": null,
      "top": null,
      "visibility": null,
      "width": null
     }
    },
    "a93916b7b0d34c21acad7ae94b087f02": {
     "model_module": "@jupyter-widgets/base",
     "model_module_version": "1.2.0",
     "model_name": "LayoutModel",
     "state": {
      "_model_module": "@jupyter-widgets/base",
      "_model_module_version": "1.2.0",
      "_model_name": "LayoutModel",
      "_view_count": null,
      "_view_module": "@jupyter-widgets/base",
      "_view_module_version": "1.2.0",
      "_view_name": "LayoutView",
      "align_content": null,
      "align_items": null,
      "align_self": null,
      "border": null,
      "bottom": null,
      "display": null,
      "flex": null,
      "flex_flow": null,
      "grid_area": null,
      "grid_auto_columns": null,
      "grid_auto_flow": null,
      "grid_auto_rows": null,
      "grid_column": null,
      "grid_gap": null,
      "grid_row": null,
      "grid_template_areas": null,
      "grid_template_columns": null,
      "grid_template_rows": null,
      "height": null,
      "justify_content": null,
      "justify_items": null,
      "left": null,
      "margin": null,
      "max_height": null,
      "max_width": null,
      "min_height": null,
      "min_width": null,
      "object_fit": null,
      "object_position": null,
      "order": null,
      "overflow": null,
      "overflow_x": null,
      "overflow_y": null,
      "padding": null,
      "right": null,
      "top": null,
      "visibility": null,
      "width": null
     }
    },
    "c39eed8ba6754bbd846c58b71190aa88": {
     "model_module": "@jupyter-widgets/controls",
     "model_module_version": "1.5.0",
     "model_name": "FloatProgressModel",
     "state": {
      "_dom_classes": [],
      "_model_module": "@jupyter-widgets/controls",
      "_model_module_version": "1.5.0",
      "_model_name": "FloatProgressModel",
      "_view_count": null,
      "_view_module": "@jupyter-widgets/controls",
      "_view_module_version": "1.5.0",
      "_view_name": "ProgressView",
      "bar_style": "success",
      "description": "",
      "description_tooltip": null,
      "layout": "IPY_MODEL_fa0a0008a7084addbe5f1043cd70891e",
      "max": 170498071,
      "min": 0,
      "orientation": "horizontal",
      "style": "IPY_MODEL_1c40c0b9189c450e9caf432d3989e0da",
      "value": 170498071
     }
    },
    "dd021c0145074ad9ace6c92c44889cc8": {
     "model_module": "@jupyter-widgets/controls",
     "model_module_version": "1.5.0",
     "model_name": "HTMLModel",
     "state": {
      "_dom_classes": [],
      "_model_module": "@jupyter-widgets/controls",
      "_model_module_version": "1.5.0",
      "_model_name": "HTMLModel",
      "_view_count": null,
      "_view_module": "@jupyter-widgets/controls",
      "_view_module_version": "1.5.0",
      "_view_name": "HTMLView",
      "description": "",
      "description_tooltip": null,
      "layout": "IPY_MODEL_93eac81d6844404793012bd92e8adf27",
      "placeholder": "​",
      "style": "IPY_MODEL_655b387b3a7c4fd784e971329de17029",
      "value": " 170498071/170498071 [00:13&lt;00:00, 13972075.04it/s]"
     }
    },
    "ef19e2093a0c46feadde379f24501ccf": {
     "model_module": "@jupyter-widgets/controls",
     "model_module_version": "1.5.0",
     "model_name": "DescriptionStyleModel",
     "state": {
      "_model_module": "@jupyter-widgets/controls",
      "_model_module_version": "1.5.0",
      "_model_name": "DescriptionStyleModel",
      "_view_count": null,
      "_view_module": "@jupyter-widgets/base",
      "_view_module_version": "1.2.0",
      "_view_name": "StyleView",
      "description_width": ""
     }
    },
    "fa0a0008a7084addbe5f1043cd70891e": {
     "model_module": "@jupyter-widgets/base",
     "model_module_version": "1.2.0",
     "model_name": "LayoutModel",
     "state": {
      "_model_module": "@jupyter-widgets/base",
      "_model_module_version": "1.2.0",
      "_model_name": "LayoutModel",
      "_view_count": null,
      "_view_module": "@jupyter-widgets/base",
      "_view_module_version": "1.2.0",
      "_view_name": "LayoutView",
      "align_content": null,
      "align_items": null,
      "align_self": null,
      "border": null,
      "bottom": null,
      "display": null,
      "flex": null,
      "flex_flow": null,
      "grid_area": null,
      "grid_auto_columns": null,
      "grid_auto_flow": null,
      "grid_auto_rows": null,
      "grid_column": null,
      "grid_gap": null,
      "grid_row": null,
      "grid_template_areas": null,
      "grid_template_columns": null,
      "grid_template_rows": null,
      "height": null,
      "justify_content": null,
      "justify_items": null,
      "left": null,
      "margin": null,
      "max_height": null,
      "max_width": null,
      "min_height": null,
      "min_width": null,
      "object_fit": null,
      "object_position": null,
      "order": null,
      "overflow": null,
      "overflow_x": null,
      "overflow_y": null,
      "padding": null,
      "right": null,
      "top": null,
      "visibility": null,
      "width": null
     }
    }
   }
  }
 },
 "nbformat": 4,
 "nbformat_minor": 1
}
